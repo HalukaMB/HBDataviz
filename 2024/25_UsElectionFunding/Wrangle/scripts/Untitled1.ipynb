{
 "cells": [
  {
   "cell_type": "code",
   "execution_count": 163,
   "id": "b26388fc-4556-4b07-87df-7d3666e6fff3",
   "metadata": {},
   "outputs": [],
   "source": [
    "import pandas as pd\n",
    "import requests\n",
    "import time"
   ]
  },
  {
   "cell_type": "code",
   "execution_count": 164,
   "id": "95699f4e-5063-4f7b-86d7-4e71f155654b",
   "metadata": {},
   "outputs": [],
   "source": [
    "#https://api.open.fec.gov/developers/#/candidate/get_v1_candidates_\n",
    "PERSONAL_KEY=\"OmpzbrlnN137lgJ0zmaZ1D9vRTQdYNJS5bCG0McO\"\n",
    "DEMO_KEY=\"lnQ9ggPNhBk2Fv2dxLoYf4bLDUi2nfGQ8Fe5jaWI\"\n",
    "UPGRADED_KEY=\"B0JwJeMgEsrJx4OvzGMBbmRsIhvjkbVqButekhPw\""
   ]
  },
  {
   "cell_type": "code",
   "execution_count": 165,
   "id": "2d0bc8bd-2201-4d6a-a49e-662b7ce31480",
   "metadata": {},
   "outputs": [],
   "source": [
    "url=(f\"https://api.open.fec.gov/v1/candidates/?page=1&per_page=100&sort=name&sort_hide_null=false&sort_null_only=false&sort_nulls_last=false&api_key={PERSONAL_KEY}\")"
   ]
  },
  {
   "cell_type": "code",
   "execution_count": 111,
   "id": "a9e458b2-3c9b-4ecf-91b2-fe2d6bbe97b0",
   "metadata": {},
   "outputs": [
    {
     "data": {
      "text/plain": [
       "'https://api.open.fec.gov/v1/candidates/?page=1&per_page=100&sort=name&sort_hide_null=false&sort_null_only=false&sort_nulls_last=false&api_key=B0JwJeMgEsrJx4OvzGMBbmRsIhvjkbVqButekhPw'"
      ]
     },
     "execution_count": 111,
     "metadata": {},
     "output_type": "execute_result"
    }
   ],
   "source": [
    "url"
   ]
  },
  {
   "cell_type": "code",
   "execution_count": 112,
   "id": "f7a1d230-c931-4fcf-aba6-74afe357df3c",
   "metadata": {},
   "outputs": [
    {
     "data": {
      "text/plain": [
       "{'count': 50346,\n",
       " 'is_count_exact': True,\n",
       " 'page': 1,\n",
       " 'pages': 504,\n",
       " 'per_page': 100}"
      ]
     },
     "execution_count": 112,
     "metadata": {},
     "output_type": "execute_result"
    }
   ],
   "source": [
    "r = requests.get(url)\n",
    "data = r.json()\n",
    "data[\"pagination\"]"
   ]
  },
  {
   "cell_type": "code",
   "execution_count": 114,
   "id": "00091cda-f3ee-4f94-a2bd-205cc1b60954",
   "metadata": {},
   "outputs": [
    {
     "name": "stdout",
     "output_type": "stream",
     "text": [
      "212 N HALF  W. JOHN, RODNEY HOWARD MR.\n",
      "375 ROB ROY DR, DAVID J SR SR\n",
      "375 ROB ROY DR, DAVID J SR SR\n",
      "753, JO\n",
      "AABBATTE, MICHAEL THOMAS WITORT\n"
     ]
    }
   ],
   "source": [
    "for entry in data[\"results\"][:5]:\n",
    "    print(entry[\"name\"])"
   ]
  },
  {
   "cell_type": "code",
   "execution_count": 179,
   "id": "5334b5a4-8c74-42fa-94c7-acaef08104ee",
   "metadata": {},
   "outputs": [],
   "source": [
    "trump_id=\"P80001571\"\n",
    "biden_id=\"P80000722\"\n",
    "harris_id=\"P80000722\"\n",
    "candidate_id=trump_id"
   ]
  },
  {
   "cell_type": "code",
   "execution_count": 181,
   "id": "b419f809-057c-4e40-a648-2dc9482a39fe",
   "metadata": {},
   "outputs": [],
   "source": [
    "candidates_dict={\"Trump\":trump_id,\"Biden\":biden_id,\"Harris\":harris_id}"
   ]
  },
  {
   "cell_type": "code",
   "execution_count": 188,
   "id": "d68c462d-133b-4d44-97a7-046471c38aae",
   "metadata": {},
   "outputs": [
    {
     "name": "stdout",
     "output_type": "stream",
     "text": [
      "Trump\n",
      "217178294.27\n",
      "Biden\n",
      "284119694.88\n",
      "Harris\n",
      "284119694.88\n"
     ]
    }
   ],
   "source": [
    "for candidate in candidates_dict.keys():\n",
    "    print(candidate)\n",
    "    candidate_id=candidates_dict[candidate]\n",
    "    url_candidate=(f\"https://api.open.fec.gov/v1/candidate/{candidate_id}\"\n",
    "               f\"/totals/?page=1&per_page=20&sort=-cycle&sort_hide_null=false&sort_null_only=false&sort_nulls_last=false&api_key={DEMO_KEY}\")\n",
    "    r = requests.get(url_candidate)\n",
    "    data = r.json()\n",
    "    len(data[\"results\"])\n",
    "    for i in range(len(data[\"results\"])):\n",
    "        if(data[\"results\"][i][\"last_report_type_full\"]!=\"YEAR-END\")&(data[\"results\"][i][\"candidate_election_year\"]!=None):\n",
    "            #print(data[\"results\"][i])\n",
    "            receipt_sum=data[\"results\"][i][\"receipts\"]\n",
    "            print(receipt_sum)"
   ]
  },
  {
   "cell_type": "code",
   "execution_count": 167,
   "id": "c9369a21-5a9f-4aeb-8c28-eacc5a5866df",
   "metadata": {},
   "outputs": [],
   "source": [
    "url_candidate=(f\"https://api.open.fec.gov/v1/candidate/{candidate_id}\"\n",
    "               f\"/totals/?page=1&per_page=20&sort=-cycle&sort_hide_null=false&sort_null_only=false&sort_nulls_last=false&api_key={DEMO_KEY}\")\n"
   ]
  },
  {
   "cell_type": "code",
   "execution_count": 171,
   "id": "e7d41a5e-d790-4f47-a732-fbaa5da59f10",
   "metadata": {},
   "outputs": [
    {
     "data": {
      "text/plain": [
       "8"
      ]
     },
     "execution_count": 171,
     "metadata": {},
     "output_type": "execute_result"
    }
   ],
   "source": [
    "url_candidate=(f\"https://api.open.fec.gov/v1/candidate/{candidate_id}\"\n",
    "               f\"/totals/?page=1&per_page=20&sort=-cycle&sort_hide_null=false&sort_null_only=false&sort_nulls_last=false&api_key={DEMO_KEY}\")\n",
    "\n",
    "r = requests.get(url_candidate)\n",
    "data = r.json()\n",
    "len(data[\"results\"])"
   ]
  },
  {
   "cell_type": "code",
   "execution_count": 178,
   "id": "7c7d6173-7c35-4f43-9337-29a9d7067200",
   "metadata": {},
   "outputs": [
    {
     "name": "stdout",
     "output_type": "stream",
     "text": [
      "0\n",
      "1\n",
      "2\n",
      "3\n",
      "217178294.27\n",
      "4\n",
      "5\n",
      "6\n",
      "7\n"
     ]
    }
   ],
   "source": [
    "for i in range(len(data[\"results\"])):\n",
    "    if(data[\"results\"][i][\"last_report_type_full\"]!=\"YEAR-END\"):\n",
    "        #print(data[\"results\"][i])\n",
    "        receipt_sum=data[\"results\"][i][\"receipts\"]\n",
    "        print(receipt_sum)"
   ]
  },
  {
   "cell_type": "code",
   "execution_count": 151,
   "id": "2bcbcf0f-a154-48a3-a271-9142a7d2693c",
   "metadata": {},
   "outputs": [
    {
     "data": {
      "text/plain": [
       "'https://api.open.fec.gov/v1/candidate/P80000722/committees/?page=1&per_page=100&sort=name&sort_hide_null=false&sort_null_only=false&sort_nulls_last=false&api_key=OmpzbrlnN137lgJ0zmaZ1D9vRTQdYNJS5bCG0McO'"
      ]
     },
     "execution_count": 151,
     "metadata": {},
     "output_type": "execute_result"
    }
   ],
   "source": [
    "biden_committees_url=(f\"https://api.open.fec.gov/v1/candidate/{biden_id}\"\n",
    "                  f\"/committees/?page=1&per_page=100&sort=name&sort_hide_null=false&sort_null_only=false&sort_nulls_last=false&api_key={PERSONAL_KEY}\")\n",
    "biden_committees_url"
   ]
  },
  {
   "cell_type": "code",
   "execution_count": 152,
   "id": "e5859bae-a0d0-441e-bc34-7a3448195bcb",
   "metadata": {},
   "outputs": [
    {
     "data": {
      "text/plain": [
       "{'api_version': '1.0',\n",
       " 'pagination': {'count': 4,\n",
       "  'is_count_exact': True,\n",
       "  'page': 1,\n",
       "  'pages': 1,\n",
       "  'per_page': 100},\n",
       " 'results': [{'affiliated_committee_name': None,\n",
       "   'candidate_ids': ['P80000722'],\n",
       "   'city': 'NEWPORT',\n",
       "   'committee_id': 'C00213652',\n",
       "   'committee_type': 'P',\n",
       "   'committee_type_full': 'Presidential',\n",
       "   'custodian_city': None,\n",
       "   'custodian_name_1': None,\n",
       "   'custodian_name_2': None,\n",
       "   'custodian_name_full': None,\n",
       "   'custodian_name_middle': None,\n",
       "   'custodian_name_prefix': None,\n",
       "   'custodian_name_suffix': None,\n",
       "   'custodian_name_title': None,\n",
       "   'custodian_phone': None,\n",
       "   'custodian_state': None,\n",
       "   'custodian_street_1': None,\n",
       "   'custodian_street_2': None,\n",
       "   'custodian_zip': None,\n",
       "   'cycles': [1988, 1990],\n",
       "   'designation': 'P',\n",
       "   'designation_full': 'Principal campaign committee',\n",
       "   'email': None,\n",
       "   'fax': None,\n",
       "   'filing_frequency': 'T',\n",
       "   'first_f1_date': '1987-03-03',\n",
       "   'first_file_date': '1987-03-03',\n",
       "   'form_type': 'F1',\n",
       "   'last_f1_date': '1987-04-03',\n",
       "   'last_file_date': '1990-02-09',\n",
       "   'leadership_pac': None,\n",
       "   'lobbyist_registrant_pac': None,\n",
       "   'name': 'BIDEN FOR PRESIDENT',\n",
       "   'organization_type': None,\n",
       "   'organization_type_full': None,\n",
       "   'party': None,\n",
       "   'party_full': None,\n",
       "   'party_type': None,\n",
       "   'party_type_full': None,\n",
       "   'sponsor_candidate_ids': None,\n",
       "   'state': 'DE',\n",
       "   'state_full': 'Delaware',\n",
       "   'street_1': '#5 GREYSTONE PLAZA, 609 W. NEWPORT',\n",
       "   'street_2': 'PIKE',\n",
       "   'treasurer_city': None,\n",
       "   'treasurer_name': 'EDWARD E KAUFMAN',\n",
       "   'treasurer_name_1': None,\n",
       "   'treasurer_name_2': None,\n",
       "   'treasurer_name_middle': None,\n",
       "   'treasurer_name_prefix': None,\n",
       "   'treasurer_name_suffix': None,\n",
       "   'treasurer_name_title': None,\n",
       "   'treasurer_phone': None,\n",
       "   'treasurer_state': None,\n",
       "   'treasurer_street_1': None,\n",
       "   'treasurer_street_2': None,\n",
       "   'treasurer_zip': None,\n",
       "   'website': None,\n",
       "   'zip': '19804'},\n",
       "  {'affiliated_committee_name': 'BIDEN VICTORY FUND',\n",
       "   'candidate_ids': ['P80000722'],\n",
       "   'city': 'PHILADELPHIA',\n",
       "   'committee_id': 'C00703975',\n",
       "   'committee_type': 'P',\n",
       "   'committee_type_full': 'Presidential',\n",
       "   'custodian_city': 'PHILADELPHIA',\n",
       "   'custodian_name_1': 'KEANA',\n",
       "   'custodian_name_2': 'SPENCER',\n",
       "   'custodian_name_full': 'SPENCER, KEANA',\n",
       "   'custodian_name_middle': None,\n",
       "   'custodian_name_prefix': None,\n",
       "   'custodian_name_suffix': None,\n",
       "   'custodian_name_title': 'TREASUER',\n",
       "   'custodian_phone': None,\n",
       "   'custodian_state': 'PA',\n",
       "   'custodian_street_1': 'PO BOX 58174',\n",
       "   'custodian_street_2': None,\n",
       "   'custodian_zip': '19102',\n",
       "   'cycles': [2020, 2022, 2024],\n",
       "   'designation': 'P',\n",
       "   'designation_full': 'Principal campaign committee',\n",
       "   'email': 'FEC@JOEBIDEN.COM',\n",
       "   'fax': None,\n",
       "   'filing_frequency': 'M',\n",
       "   'first_f1_date': '2019-04-25',\n",
       "   'first_file_date': '2019-04-25',\n",
       "   'form_type': 'F1',\n",
       "   'last_f1_date': '2023-09-05',\n",
       "   'last_file_date': '2024-07-11',\n",
       "   'leadership_pac': None,\n",
       "   'lobbyist_registrant_pac': None,\n",
       "   'name': 'BIDEN FOR PRESIDENT',\n",
       "   'organization_type': None,\n",
       "   'organization_type_full': None,\n",
       "   'party': 'DEM',\n",
       "   'party_full': 'DEMOCRATIC PARTY',\n",
       "   'party_type': None,\n",
       "   'party_type_full': None,\n",
       "   'sponsor_candidate_ids': None,\n",
       "   'state': 'PA',\n",
       "   'state_full': 'Pennsylvania',\n",
       "   'street_1': 'PO BOX 58174',\n",
       "   'street_2': None,\n",
       "   'treasurer_city': 'PHILADELPHIA',\n",
       "   'treasurer_name': 'SPENCER, KEANA',\n",
       "   'treasurer_name_1': 'KEANA',\n",
       "   'treasurer_name_2': 'SPENCER',\n",
       "   'treasurer_name_middle': None,\n",
       "   'treasurer_name_prefix': None,\n",
       "   'treasurer_name_suffix': None,\n",
       "   'treasurer_name_title': 'TREASURER',\n",
       "   'treasurer_phone': None,\n",
       "   'treasurer_state': 'PA',\n",
       "   'treasurer_street_1': 'PO BOX 58174',\n",
       "   'treasurer_street_2': None,\n",
       "   'treasurer_zip': '19102',\n",
       "   'website': 'JOEBIDEN.COM',\n",
       "   'zip': '19102'},\n",
       "  {'affiliated_committee_name': None,\n",
       "   'candidate_ids': ['P80000722'],\n",
       "   'city': 'WILMINGTON',\n",
       "   'committee_id': 'C00431916',\n",
       "   'committee_type': 'P',\n",
       "   'committee_type_full': 'Presidential',\n",
       "   'custodian_city': 'WILMINGTON',\n",
       "   'custodian_name_1': None,\n",
       "   'custodian_name_2': None,\n",
       "   'custodian_name_full': 'MONZACK, MELVYN I',\n",
       "   'custodian_name_middle': None,\n",
       "   'custodian_name_prefix': None,\n",
       "   'custodian_name_suffix': None,\n",
       "   'custodian_name_title': 'TREASURER',\n",
       "   'custodian_phone': '3025742008',\n",
       "   'custodian_state': 'DE',\n",
       "   'custodian_street_1': 'PO BOX 438',\n",
       "   'custodian_street_2': None,\n",
       "   'custodian_zip': '19899',\n",
       "   'cycles': [2008, 2010, 2012],\n",
       "   'designation': 'P',\n",
       "   'designation_full': 'Principal campaign committee',\n",
       "   'email': 'TREASURER@JOEBIDEN.COM',\n",
       "   'fax': '3026521475',\n",
       "   'filing_frequency': 'T',\n",
       "   'first_f1_date': '2007-01-31',\n",
       "   'first_file_date': '2007-01-31',\n",
       "   'form_type': 'F1',\n",
       "   'last_f1_date': '2008-04-23',\n",
       "   'last_file_date': '2012-07-25',\n",
       "   'leadership_pac': None,\n",
       "   'lobbyist_registrant_pac': None,\n",
       "   'name': 'BIDEN FOR PRESIDENT, INC.',\n",
       "   'organization_type': None,\n",
       "   'organization_type_full': None,\n",
       "   'party': 'DEM',\n",
       "   'party_full': 'DEMOCRATIC PARTY',\n",
       "   'party_type': None,\n",
       "   'party_type_full': None,\n",
       "   'sponsor_candidate_ids': None,\n",
       "   'state': 'DE',\n",
       "   'state_full': 'Delaware',\n",
       "   'street_1': 'PO BOX 438',\n",
       "   'street_2': None,\n",
       "   'treasurer_city': 'WILMINGTON',\n",
       "   'treasurer_name': 'MONZACK, MELVYN I',\n",
       "   'treasurer_name_1': None,\n",
       "   'treasurer_name_2': None,\n",
       "   'treasurer_name_middle': None,\n",
       "   'treasurer_name_prefix': None,\n",
       "   'treasurer_name_suffix': None,\n",
       "   'treasurer_name_title': 'TREASURER',\n",
       "   'treasurer_phone': '3025742008',\n",
       "   'treasurer_state': 'DE',\n",
       "   'treasurer_street_1': 'PO BOX 438',\n",
       "   'treasurer_street_2': None,\n",
       "   'treasurer_zip': '19899',\n",
       "   'website': 'HTTP://WWW.JOEBIDEN.COM',\n",
       "   'zip': '19899'},\n",
       "  {'affiliated_committee_name': 'NONE',\n",
       "   'candidate_ids': ['P80000722'],\n",
       "   'city': 'BEVERLY HILLS',\n",
       "   'committee_id': 'C00745224',\n",
       "   'committee_type': 'U',\n",
       "   'committee_type_full': 'Single Candidate Independent Expenditure',\n",
       "   'custodian_city': 'BEVERLY HILLS',\n",
       "   'custodian_name_1': 'ANASTASIA',\n",
       "   'custodian_name_2': 'IGWE-KA',\n",
       "   'custodian_name_full': 'IGWE-KA, ANASTASIA O.',\n",
       "   'custodian_name_middle': 'O.',\n",
       "   'custodian_name_prefix': None,\n",
       "   'custodian_name_suffix': None,\n",
       "   'custodian_name_title': None,\n",
       "   'custodian_phone': '9097236345',\n",
       "   'custodian_state': 'CA',\n",
       "   'custodian_street_1': '468 N. CAMDEN DRIVE 2ND FLOOR',\n",
       "   'custodian_street_2': None,\n",
       "   'custodian_zip': '90210',\n",
       "   'cycles': [2020, 2022],\n",
       "   'designation': 'U',\n",
       "   'designation_full': 'Unauthorized',\n",
       "   'email': 'CNIHENACHO@GMAIL.COM;NAUPAC2020@GMAIL.COM',\n",
       "   'fax': None,\n",
       "   'filing_frequency': 'A',\n",
       "   'first_f1_date': '2020-04-30',\n",
       "   'first_file_date': '2020-04-30',\n",
       "   'form_type': 'F1',\n",
       "   'last_f1_date': '2020-10-08',\n",
       "   'last_file_date': '2022-03-15',\n",
       "   'leadership_pac': None,\n",
       "   'lobbyist_registrant_pac': None,\n",
       "   'name': 'NIGERIAN-AMERICANS UNITED POLITICAL ACTION COMMITTEE',\n",
       "   'organization_type': None,\n",
       "   'organization_type_full': None,\n",
       "   'party': 'DEM',\n",
       "   'party_full': 'DEMOCRATIC PARTY',\n",
       "   'party_type': None,\n",
       "   'party_type_full': None,\n",
       "   'sponsor_candidate_ids': None,\n",
       "   'state': 'CA',\n",
       "   'state_full': 'California',\n",
       "   'street_1': '468 N. CAMDEN DRIVE 2ND FLOOR',\n",
       "   'street_2': None,\n",
       "   'treasurer_city': 'BEVERLY HILLS',\n",
       "   'treasurer_name': 'IGWE-KA, ANASTASIA O.',\n",
       "   'treasurer_name_1': 'ANASTASIA',\n",
       "   'treasurer_name_2': 'IGWE-KA',\n",
       "   'treasurer_name_middle': 'O.',\n",
       "   'treasurer_name_prefix': None,\n",
       "   'treasurer_name_suffix': None,\n",
       "   'treasurer_name_title': None,\n",
       "   'treasurer_phone': '9097236345',\n",
       "   'treasurer_state': 'CA',\n",
       "   'treasurer_street_1': '468 N. CAMDEN DRIVE 2ND FLOOR',\n",
       "   'treasurer_street_2': None,\n",
       "   'treasurer_zip': '90210',\n",
       "   'website': 'NIGERIANAMERICANSUNITED.ORG',\n",
       "   'zip': '90210'}]}"
      ]
     },
     "execution_count": 152,
     "metadata": {},
     "output_type": "execute_result"
    }
   ],
   "source": [
    "r = requests.get(biden_committees_url)\n",
    "data = r.json()\n",
    "data"
   ]
  },
  {
   "cell_type": "code",
   "execution_count": 160,
   "id": "e1b42d22-ad8b-4336-a363-e49d0f1ca5a2",
   "metadata": {},
   "outputs": [
    {
     "data": {
      "text/plain": [
       "['C00213652', 'C00703975', 'C00431916', 'C00745224']"
      ]
     },
     "execution_count": 160,
     "metadata": {},
     "output_type": "execute_result"
    }
   ],
   "source": [
    "committee_ids=[]\n",
    "for entry in range(len(data[\"results\"])):\n",
    "    committee_ids.append(data[\"results\"][entry][\"committee_id\"])\n",
    "committee_ids"
   ]
  },
  {
   "cell_type": "code",
   "execution_count": 129,
   "id": "3dcb52f4-aa90-4b0d-937d-9502c7456a74",
   "metadata": {},
   "outputs": [],
   "source": [
    "url_receipts_initial=(f\"https://api.open.fec.gov/v1/schedules/schedule_a/?min_date=2024-01-01&min_load_date=2024-07-18&max_load_date=2024-08-19&per_page=100&last_contribution_receipt_date=2024-12-31&two_year_transaction_period=2024&per_page=100&sort=-contribution_receipt_date&sort_hide_null=false&sort_null_only=false&api_key={PERSONAL_KEY}\")\n",
    "#url_receipts_initial_demo=(f\"https://api.open.fec.gov/v1/schedules/schedule_a/?min_date=2024-01-01&min_load_date=2024-07-18&max_load_date=2024-08-19&per_page=100&last_contribution_receipt_date=2024-12-31&two_year_transaction_period=2024&per_page=100&sort=-contribution_receipt_date&sort_hide_null=false&sort_null_only=false&api_key={DEMO_KEY}\")\n"
   ]
  },
  {
   "cell_type": "code",
   "execution_count": 130,
   "id": "a6df022a-2cb9-437f-9b01-c73b964f1af8",
   "metadata": {},
   "outputs": [
    {
     "data": {
      "text/plain": [
       "6732"
      ]
     },
     "execution_count": 130,
     "metadata": {},
     "output_type": "execute_result"
    }
   ],
   "source": [
    "r = requests.get(url_receipts_initial)\n",
    "data = r.json()\n",
    "pages_to_iterate=data[\"pagination\"][\"pages\"]\n",
    "pages_to_iterate"
   ]
  },
  {
   "cell_type": "code",
   "execution_count": 131,
   "id": "4d6c8014-120a-4684-b454-37d4c5fe642b",
   "metadata": {},
   "outputs": [
    {
     "data": {
      "text/plain": [
       "'4071720241977786583'"
      ]
     },
     "execution_count": 131,
     "metadata": {},
     "output_type": "execute_result"
    }
   ],
   "source": [
    "indexes=data[\"pagination\"][\"last_indexes\"]\n",
    "lastdate=indexes[\"last_contribution_receipt_date\"]\n",
    "lastindex=indexes[\"last_index\"]\n",
    "lastindex"
   ]
  },
  {
   "cell_type": "code",
   "execution_count": 134,
   "id": "bfa70269-b38e-4fa9-9dc7-823814bfba0d",
   "metadata": {},
   "outputs": [
    {
     "name": "stdout",
     "output_type": "stream",
     "text": [
      "{'error': {'code': 'OVER_RATE_LIMIT', 'message': 'You have exceeded your rate limit of 40 calls per hour for the DEMO_KEY, 1000 calls per hour for a personal key, or 120 calls per minute for an upgraded key. You can either try again later, sign up for a personal key at https://api.data.gov/signup/, or email apiinfo@fec.gov to upgrade your key.'}}\n",
      "{'error': {'code': 'OVER_RATE_LIMIT', 'message': 'You have exceeded your rate limit of 40 calls per hour for the DEMO_KEY, 1000 calls per hour for a personal key, or 120 calls per minute for an upgraded key. You can either try again later, sign up for a personal key at https://api.data.gov/signup/, or email apiinfo@fec.gov to upgrade your key.'}}\n",
      "{'error': {'code': 'OVER_RATE_LIMIT', 'message': 'You have exceeded your rate limit of 40 calls per hour for the DEMO_KEY, 1000 calls per hour for a personal key, or 120 calls per minute for an upgraded key. You can either try again later, sign up for a personal key at https://api.data.gov/signup/, or email apiinfo@fec.gov to upgrade your key.'}}\n",
      "{'error': {'code': 'OVER_RATE_LIMIT', 'message': 'You have exceeded your rate limit of 40 calls per hour for the DEMO_KEY, 1000 calls per hour for a personal key, or 120 calls per minute for an upgraded key. You can either try again later, sign up for a personal key at https://api.data.gov/signup/, or email apiinfo@fec.gov to upgrade your key.'}}\n",
      "{'error': {'code': 'OVER_RATE_LIMIT', 'message': 'You have exceeded your rate limit of 40 calls per hour for the DEMO_KEY, 1000 calls per hour for a personal key, or 120 calls per minute for an upgraded key. You can either try again later, sign up for a personal key at https://api.data.gov/signup/, or email apiinfo@fec.gov to upgrade your key.'}}\n",
      "{'error': {'code': 'OVER_RATE_LIMIT', 'message': 'You have exceeded your rate limit of 40 calls per hour for the DEMO_KEY, 1000 calls per hour for a personal key, or 120 calls per minute for an upgraded key. You can either try again later, sign up for a personal key at https://api.data.gov/signup/, or email apiinfo@fec.gov to upgrade your key.'}}\n",
      "{'error': {'code': 'OVER_RATE_LIMIT', 'message': 'You have exceeded your rate limit of 40 calls per hour for the DEMO_KEY, 1000 calls per hour for a personal key, or 120 calls per minute for an upgraded key. You can either try again later, sign up for a personal key at https://api.data.gov/signup/, or email apiinfo@fec.gov to upgrade your key.'}}\n",
      "{'error': {'code': 'OVER_RATE_LIMIT', 'message': 'You have exceeded your rate limit of 40 calls per hour for the DEMO_KEY, 1000 calls per hour for a personal key, or 120 calls per minute for an upgraded key. You can either try again later, sign up for a personal key at https://api.data.gov/signup/, or email apiinfo@fec.gov to upgrade your key.'}}\n",
      "{'error': {'code': 'OVER_RATE_LIMIT', 'message': 'You have exceeded your rate limit of 40 calls per hour for the DEMO_KEY, 1000 calls per hour for a personal key, or 120 calls per minute for an upgraded key. You can either try again later, sign up for a personal key at https://api.data.gov/signup/, or email apiinfo@fec.gov to upgrade your key.'}}\n",
      "{'error': {'code': 'OVER_RATE_LIMIT', 'message': 'You have exceeded your rate limit of 40 calls per hour for the DEMO_KEY, 1000 calls per hour for a personal key, or 120 calls per minute for an upgraded key. You can either try again later, sign up for a personal key at https://api.data.gov/signup/, or email apiinfo@fec.gov to upgrade your key.'}}\n",
      "{'error': {'code': 'OVER_RATE_LIMIT', 'message': 'You have exceeded your rate limit of 40 calls per hour for the DEMO_KEY, 1000 calls per hour for a personal key, or 120 calls per minute for an upgraded key. You can either try again later, sign up for a personal key at https://api.data.gov/signup/, or email apiinfo@fec.gov to upgrade your key.'}}\n",
      "{'error': {'code': 'OVER_RATE_LIMIT', 'message': 'You have exceeded your rate limit of 40 calls per hour for the DEMO_KEY, 1000 calls per hour for a personal key, or 120 calls per minute for an upgraded key. You can either try again later, sign up for a personal key at https://api.data.gov/signup/, or email apiinfo@fec.gov to upgrade your key.'}}\n",
      "{'error': {'code': 'OVER_RATE_LIMIT', 'message': 'You have exceeded your rate limit of 40 calls per hour for the DEMO_KEY, 1000 calls per hour for a personal key, or 120 calls per minute for an upgraded key. You can either try again later, sign up for a personal key at https://api.data.gov/signup/, or email apiinfo@fec.gov to upgrade your key.'}}\n",
      "{'error': {'code': 'OVER_RATE_LIMIT', 'message': 'You have exceeded your rate limit of 40 calls per hour for the DEMO_KEY, 1000 calls per hour for a personal key, or 120 calls per minute for an upgraded key. You can either try again later, sign up for a personal key at https://api.data.gov/signup/, or email apiinfo@fec.gov to upgrade your key.'}}\n",
      "{'error': {'code': 'OVER_RATE_LIMIT', 'message': 'You have exceeded your rate limit of 40 calls per hour for the DEMO_KEY, 1000 calls per hour for a personal key, or 120 calls per minute for an upgraded key. You can either try again later, sign up for a personal key at https://api.data.gov/signup/, or email apiinfo@fec.gov to upgrade your key.'}}\n",
      "{'error': {'code': 'OVER_RATE_LIMIT', 'message': 'You have exceeded your rate limit of 40 calls per hour for the DEMO_KEY, 1000 calls per hour for a personal key, or 120 calls per minute for an upgraded key. You can either try again later, sign up for a personal key at https://api.data.gov/signup/, or email apiinfo@fec.gov to upgrade your key.'}}\n",
      "{'error': {'code': 'OVER_RATE_LIMIT', 'message': 'You have exceeded your rate limit of 40 calls per hour for the DEMO_KEY, 1000 calls per hour for a personal key, or 120 calls per minute for an upgraded key. You can either try again later, sign up for a personal key at https://api.data.gov/signup/, or email apiinfo@fec.gov to upgrade your key.'}}\n",
      "{'error': {'code': 'OVER_RATE_LIMIT', 'message': 'You have exceeded your rate limit of 40 calls per hour for the DEMO_KEY, 1000 calls per hour for a personal key, or 120 calls per minute for an upgraded key. You can either try again later, sign up for a personal key at https://api.data.gov/signup/, or email apiinfo@fec.gov to upgrade your key.'}}\n",
      "{'error': {'code': 'OVER_RATE_LIMIT', 'message': 'You have exceeded your rate limit of 40 calls per hour for the DEMO_KEY, 1000 calls per hour for a personal key, or 120 calls per minute for an upgraded key. You can either try again later, sign up for a personal key at https://api.data.gov/signup/, or email apiinfo@fec.gov to upgrade your key.'}}\n",
      "{'error': {'code': 'OVER_RATE_LIMIT', 'message': 'You have exceeded your rate limit of 40 calls per hour for the DEMO_KEY, 1000 calls per hour for a personal key, or 120 calls per minute for an upgraded key. You can either try again later, sign up for a personal key at https://api.data.gov/signup/, or email apiinfo@fec.gov to upgrade your key.'}}\n",
      "{'error': {'code': 'OVER_RATE_LIMIT', 'message': 'You have exceeded your rate limit of 40 calls per hour for the DEMO_KEY, 1000 calls per hour for a personal key, or 120 calls per minute for an upgraded key. You can either try again later, sign up for a personal key at https://api.data.gov/signup/, or email apiinfo@fec.gov to upgrade your key.'}}\n",
      "{'error': {'code': 'OVER_RATE_LIMIT', 'message': 'You have exceeded your rate limit of 40 calls per hour for the DEMO_KEY, 1000 calls per hour for a personal key, or 120 calls per minute for an upgraded key. You can either try again later, sign up for a personal key at https://api.data.gov/signup/, or email apiinfo@fec.gov to upgrade your key.'}}\n",
      "{'error': {'code': 'OVER_RATE_LIMIT', 'message': 'You have exceeded your rate limit of 40 calls per hour for the DEMO_KEY, 1000 calls per hour for a personal key, or 120 calls per minute for an upgraded key. You can either try again later, sign up for a personal key at https://api.data.gov/signup/, or email apiinfo@fec.gov to upgrade your key.'}}\n",
      "{'error': {'code': 'OVER_RATE_LIMIT', 'message': 'You have exceeded your rate limit of 40 calls per hour for the DEMO_KEY, 1000 calls per hour for a personal key, or 120 calls per minute for an upgraded key. You can either try again later, sign up for a personal key at https://api.data.gov/signup/, or email apiinfo@fec.gov to upgrade your key.'}}\n",
      "{'error': {'code': 'OVER_RATE_LIMIT', 'message': 'You have exceeded your rate limit of 40 calls per hour for the DEMO_KEY, 1000 calls per hour for a personal key, or 120 calls per minute for an upgraded key. You can either try again later, sign up for a personal key at https://api.data.gov/signup/, or email apiinfo@fec.gov to upgrade your key.'}}\n",
      "{'error': {'code': 'OVER_RATE_LIMIT', 'message': 'You have exceeded your rate limit of 40 calls per hour for the DEMO_KEY, 1000 calls per hour for a personal key, or 120 calls per minute for an upgraded key. You can either try again later, sign up for a personal key at https://api.data.gov/signup/, or email apiinfo@fec.gov to upgrade your key.'}}\n",
      "{'error': {'code': 'OVER_RATE_LIMIT', 'message': 'You have exceeded your rate limit of 40 calls per hour for the DEMO_KEY, 1000 calls per hour for a personal key, or 120 calls per minute for an upgraded key. You can either try again later, sign up for a personal key at https://api.data.gov/signup/, or email apiinfo@fec.gov to upgrade your key.'}}\n",
      "{'error': {'code': 'OVER_RATE_LIMIT', 'message': 'You have exceeded your rate limit of 40 calls per hour for the DEMO_KEY, 1000 calls per hour for a personal key, or 120 calls per minute for an upgraded key. You can either try again later, sign up for a personal key at https://api.data.gov/signup/, or email apiinfo@fec.gov to upgrade your key.'}}\n",
      "{'error': {'code': 'OVER_RATE_LIMIT', 'message': 'You have exceeded your rate limit of 40 calls per hour for the DEMO_KEY, 1000 calls per hour for a personal key, or 120 calls per minute for an upgraded key. You can either try again later, sign up for a personal key at https://api.data.gov/signup/, or email apiinfo@fec.gov to upgrade your key.'}}\n",
      "{'error': {'code': 'OVER_RATE_LIMIT', 'message': 'You have exceeded your rate limit of 40 calls per hour for the DEMO_KEY, 1000 calls per hour for a personal key, or 120 calls per minute for an upgraded key. You can either try again later, sign up for a personal key at https://api.data.gov/signup/, or email apiinfo@fec.gov to upgrade your key.'}}\n",
      "{'error': {'code': 'OVER_RATE_LIMIT', 'message': 'You have exceeded your rate limit of 40 calls per hour for the DEMO_KEY, 1000 calls per hour for a personal key, or 120 calls per minute for an upgraded key. You can either try again later, sign up for a personal key at https://api.data.gov/signup/, or email apiinfo@fec.gov to upgrade your key.'}}\n",
      "{'error': {'code': 'OVER_RATE_LIMIT', 'message': 'You have exceeded your rate limit of 40 calls per hour for the DEMO_KEY, 1000 calls per hour for a personal key, or 120 calls per minute for an upgraded key. You can either try again later, sign up for a personal key at https://api.data.gov/signup/, or email apiinfo@fec.gov to upgrade your key.'}}\n"
     ]
    },
    {
     "ename": "KeyboardInterrupt",
     "evalue": "",
     "output_type": "error",
     "traceback": [
      "\u001b[0;31m---------------------------------------------------------------------------\u001b[0m",
      "\u001b[0;31mKeyboardInterrupt\u001b[0m                         Traceback (most recent call last)",
      "Cell \u001b[0;32mIn[134], line 5\u001b[0m\n\u001b[1;32m      3\u001b[0m \u001b[38;5;28;01mfor\u001b[39;00m i \u001b[38;5;129;01min\u001b[39;00m \u001b[38;5;28mrange\u001b[39m(pages_to_iterate):\n\u001b[1;32m      4\u001b[0m     counter\u001b[38;5;241m+\u001b[39m\u001b[38;5;241m=\u001b[39m\u001b[38;5;241m1\u001b[39m\n\u001b[0;32m----> 5\u001b[0m     \u001b[43mtime\u001b[49m\u001b[38;5;241;43m.\u001b[39;49m\u001b[43msleep\u001b[49m\u001b[43m(\u001b[49m\u001b[38;5;241;43m0.5\u001b[39;49m\u001b[43m)\u001b[49m\n\u001b[1;32m      6\u001b[0m     \u001b[38;5;66;03m#print(counter)\u001b[39;00m\n\u001b[1;32m      7\u001b[0m     \u001b[38;5;28;01mif\u001b[39;00m (counter\u001b[38;5;241m%\u001b[39m\u001b[38;5;241m2\u001b[39m\u001b[38;5;241m==\u001b[39m\u001b[38;5;241m0\u001b[39m):\n",
      "\u001b[0;31mKeyboardInterrupt\u001b[0m: "
     ]
    }
   ],
   "source": [
    "basedf=pd.DataFrame()\n",
    "counter=0\n",
    "for i in range(pages_to_iterate):\n",
    "    counter+=1\n",
    "    time.sleep(0.5)\n",
    "    #print(counter)\n",
    "    if (counter%2==0):\n",
    "        url_receipts_iterate=url_receipts_initial+\"&last_contribution_receipt_date=\"+lastdate+\"&last_index=\"+lastindex\n",
    "    else:\n",
    "        url_receipts_iterate=url_receipts_initial_demo+\"&last_contribution_receipt_date=\"+lastdate+\"&last_index=\"+lastindex\n",
    "\n",
    "    r = requests.get(url_receipts_iterate)\n",
    "    data = r.json()\n",
    "    try:\n",
    "        current_df=pd.DataFrame(data[\"results\"])\n",
    "        basedf=pd.concat([basedf,current_df])\n",
    "        indexes=data[\"pagination\"][\"last_indexes\"]\n",
    "        lastdate=indexes[\"last_contribution_receipt_date\"]\n",
    "        lastindex=indexes[\"last_index\"]\n",
    "    except:\n",
    "        print(data)\n",
    "    "
   ]
  },
  {
   "cell_type": "code",
   "execution_count": 162,
   "id": "5ebeb511-fee8-40e6-95af-19a073b7f8f9",
   "metadata": {},
   "outputs": [
    {
     "data": {
      "text/plain": [
       "array(['C00771972', 'C00742007', 'C00665638'], dtype=object)"
      ]
     },
     "execution_count": 162,
     "metadata": {},
     "output_type": "execute_result"
    }
   ],
   "source": [
    "basedf[\"committee_id\"].unique()"
   ]
  },
  {
   "cell_type": "code",
   "execution_count": 83,
   "id": "d054b085-aba2-4b2e-8b2b-c7ad64c053eb",
   "metadata": {},
   "outputs": [
    {
     "data": {
      "text/plain": [
       "Index(['amendment_indicator', 'amendment_indicator_desc',\n",
       "       'back_reference_schedule_name', 'back_reference_transaction_id',\n",
       "       'candidate_first_name', 'candidate_id', 'candidate_last_name',\n",
       "       'candidate_middle_name', 'candidate_name', 'candidate_office',\n",
       "       'candidate_office_district', 'candidate_office_full',\n",
       "       'candidate_office_state', 'candidate_office_state_full',\n",
       "       'candidate_prefix', 'candidate_suffix', 'committee', 'committee_id',\n",
       "       'committee_name', 'conduit_committee_city', 'conduit_committee_id',\n",
       "       'conduit_committee_name', 'conduit_committee_state',\n",
       "       'conduit_committee_street1', 'conduit_committee_street2',\n",
       "       'conduit_committee_zip', 'contribution_receipt_amount',\n",
       "       'contribution_receipt_date', 'contributor', 'contributor_aggregate_ytd',\n",
       "       'contributor_city', 'contributor_employer', 'contributor_first_name',\n",
       "       'contributor_id', 'contributor_last_name', 'contributor_middle_name',\n",
       "       'contributor_name', 'contributor_occupation', 'contributor_prefix',\n",
       "       'contributor_state', 'contributor_street_1', 'contributor_street_2',\n",
       "       'contributor_suffix', 'contributor_zip', 'donor_committee_name',\n",
       "       'election_type', 'election_type_full', 'entity_type',\n",
       "       'entity_type_desc', 'fec_election_type_desc', 'fec_election_year',\n",
       "       'file_number', 'filing_form', 'image_number', 'increased_limit',\n",
       "       'is_individual', 'line_number', 'line_number_label', 'link_id',\n",
       "       'load_date', 'memo_code', 'memo_code_full', 'memo_text',\n",
       "       'memoed_subtotal', 'national_committee_nonfederal_account',\n",
       "       'original_sub_id', 'pdf_url', 'receipt_type', 'receipt_type_desc',\n",
       "       'receipt_type_full', 'recipient_committee_designation',\n",
       "       'recipient_committee_org_type', 'recipient_committee_type',\n",
       "       'report_type', 'report_year', 'schedule_type', 'schedule_type_full',\n",
       "       'sub_id', 'transaction_id', 'two_year_transaction_period',\n",
       "       'unused_contbr_id'],\n",
       "      dtype='object')"
      ]
     },
     "execution_count": 83,
     "metadata": {},
     "output_type": "execute_result"
    }
   ],
   "source": [
    "basedf.columns"
   ]
  },
  {
   "cell_type": "code",
   "execution_count": 87,
   "id": "f00e011f-3140-449b-80df-7a609d8790d7",
   "metadata": {},
   "outputs": [
    {
     "data": {
      "text/plain": [
       "'https://docquery.fec.gov/cgi-bin/fecimg/?202407059652570409'"
      ]
     },
     "execution_count": 87,
     "metadata": {},
     "output_type": "execute_result"
    }
   ],
   "source": [
    "basedf[\"pdf_url\"].iloc[0]"
   ]
  },
  {
   "cell_type": "code",
   "execution_count": 30,
   "id": "ba905c39-a159-4afa-8b83-424f684738a3",
   "metadata": {},
   "outputs": [],
   "source": [
    "url_amount_candidate=(f\"https://api.open.fec.gov/v1/schedules/schedule_a/by_size/by_candidate/?page=1&per_page=20&candidate_id=P80000722&cycle=2024&election_full=true&sort=size&sort_hide_null=false&sort_null_only=false&sort_nulls_last=false&api_key={DEMO_KEY}\")"
   ]
  },
  {
   "cell_type": "code",
   "execution_count": 31,
   "id": "d6ea9978-b415-457e-966c-e52d0e910898",
   "metadata": {},
   "outputs": [
    {
     "data": {
      "text/plain": [
       "{'api_version': '1.0',\n",
       " 'pagination': {'count': 5,\n",
       "  'is_count_exact': True,\n",
       "  'page': 1,\n",
       "  'pages': 1,\n",
       "  'per_page': 20},\n",
       " 'results': [{'candidate_id': 'P80000722',\n",
       "   'count': None,\n",
       "   'cycle': 2024,\n",
       "   'size': 0,\n",
       "   'total': 77113796.74},\n",
       "  {'candidate_id': 'P80000722',\n",
       "   'count': 76589,\n",
       "   'cycle': 2024,\n",
       "   'size': 200,\n",
       "   'total': 20122904.05},\n",
       "  {'candidate_id': 'P80000722',\n",
       "   'count': 31641,\n",
       "   'cycle': 2024,\n",
       "   'size': 500,\n",
       "   'total': 16109235.83},\n",
       "  {'candidate_id': 'P80000722',\n",
       "   'count': 23582,\n",
       "   'cycle': 2024,\n",
       "   'size': 1000,\n",
       "   'total': 24709578.28},\n",
       "  {'candidate_id': 'P80000722',\n",
       "   'count': 19958,\n",
       "   'cycle': 2024,\n",
       "   'size': 2000,\n",
       "   'total': 58083539.4}]}"
      ]
     },
     "execution_count": 31,
     "metadata": {},
     "output_type": "execute_result"
    }
   ],
   "source": [
    "r = requests.get(url_amount_candidate)\n",
    "data = r.json()\n",
    "data"
   ]
  },
  {
   "cell_type": "code",
   "execution_count": null,
   "id": "f634a991-9546-4e4a-a288-a76e3f181c5e",
   "metadata": {},
   "outputs": [],
   "source": []
  }
 ],
 "metadata": {
  "kernelspec": {
   "display_name": "Python 3 (ipykernel)",
   "language": "python",
   "name": "python3"
  },
  "language_info": {
   "codemirror_mode": {
    "name": "ipython",
    "version": 3
   },
   "file_extension": ".py",
   "mimetype": "text/x-python",
   "name": "python",
   "nbconvert_exporter": "python",
   "pygments_lexer": "ipython3",
   "version": "3.9.6"
  }
 },
 "nbformat": 4,
 "nbformat_minor": 5
}
