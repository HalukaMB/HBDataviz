{
 "cells": [
  {
   "cell_type": "code",
   "execution_count": 12,
   "id": "1b51d06a-4f84-41a6-a021-bb8ec1affcc7",
   "metadata": {},
   "outputs": [],
   "source": [
    "import pandas as pd\n",
    "import glob"
   ]
  },
  {
   "cell_type": "code",
   "execution_count": 15,
   "id": "8ca3071b-c015-4b2d-9d63-3effdd1ca44e",
   "metadata": {},
   "outputs": [],
   "source": [
    "files=glob.glob(\"../data/Jahresbilanzen/*\")"
   ]
  },
  {
   "cell_type": "code",
   "execution_count": 25,
   "id": "a4d3b12e-fc8a-4c14-940a-5333ab323483",
   "metadata": {},
   "outputs": [
    {
     "data": {
      "text/plain": [
       "[['2017', np.float64(45.0), np.float64(8.0), np.float64(0.0)],\n",
       " ['2016', np.float64(63.0), np.float64(3.0), np.float64(0.0)],\n",
       " ['2014', np.float64(64.0), np.float64(10.0), np.float64(0.0)],\n",
       " ['2015', np.float64(72.0), np.float64(7.5), np.float64(0.0)],\n",
       " ['2011', np.float64(89.0), np.float64(23.0), np.float64(0.0)],\n",
       " ['2005', np.float64(187.0), np.float64(14.0), np.float64(0.0)],\n",
       " ['2004', np.float64(102.0), np.float64(12.0), np.float64(0.0)],\n",
       " ['2010', np.float64(104.0), np.float64(19.0), np.float64(0.0)],\n",
       " ['2006', np.float64(175.0), np.float64(22.0), np.float64(0.0)],\n",
       " ['2012', np.float64(78.0), np.float64(9.0), np.float64(0.0)],\n",
       " ['2013', np.float64(91.0), np.float64(10.0), np.float64(0.0)],\n",
       " ['2007', np.float64(110.0), np.float64(12.0), np.float64(0.0)],\n",
       " ['2022', np.float64(22.0), np.float64(1.0), np.float64(0.0)],\n",
       " ['2023', np.float64(13.0), np.float64(0.0), np.float64(0.0)],\n",
       " ['2009', np.float64(112.0), np.float64(15.0), np.float64(0.0)],\n",
       " ['2021', np.float64(22.0), np.float64(2.0), np.float64(0.0)],\n",
       " ['2020', np.float64(18.0), np.float64(1.0), np.float64(0.0)],\n",
       " ['2008', np.float64(88.0), np.float64(7.0), np.float64(0.0)],\n",
       " ['2018', np.float64(36.0), np.float64(6.0), np.float64(0.0)],\n",
       " ['2019', np.float64(31.0), np.float64(2.0), np.float64(0.0)]]"
      ]
     },
     "execution_count": 25,
     "metadata": {},
     "output_type": "execute_result"
    }
   ],
   "source": [
    "value_list=[]\n",
    "for filename in files:\n",
    "    data=pd.read_csv(filename, sep=\";\")\n",
    "    median=data[\"Zahl der Tageswerte über 50 µg/m3\"].median()\n",
    "    maxval=data[\"Zahl der Tageswerte über 50 µg/m3\"].max()\n",
    "    minval=data[\"Zahl der Tageswerte über 50 µg/m3\"].min()\n",
    "\n",
    "    value_list.append([filename[-8:-4],maxval,median,minval])\n",
    "value_list"
   ]
  },
  {
   "cell_type": "code",
   "execution_count": 28,
   "id": "7c3d0e9b-f396-4272-b90e-c1e0ee2496e1",
   "metadata": {},
   "outputs": [],
   "source": [
    "pd.DataFrame(value_list).sort_values(by=0).to_csv(\"feinstaub.csv\")"
   ]
  },
  {
   "cell_type": "code",
   "execution_count": null,
   "id": "3ec9b0d5-4004-4e1f-a721-2e259f25af17",
   "metadata": {},
   "outputs": [],
   "source": []
  }
 ],
 "metadata": {
  "kernelspec": {
   "display_name": "Python 3 (ipykernel)",
   "language": "python",
   "name": "python3"
  },
  "language_info": {
   "codemirror_mode": {
    "name": "ipython",
    "version": 3
   },
   "file_extension": ".py",
   "mimetype": "text/x-python",
   "name": "python",
   "nbconvert_exporter": "python",
   "pygments_lexer": "ipython3",
   "version": "3.9.6"
  }
 },
 "nbformat": 4,
 "nbformat_minor": 5
}
