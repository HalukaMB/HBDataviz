{
 "cells": [
  {
   "cell_type": "code",
   "execution_count": 4,
   "id": "e270b100-c619-45ca-ad59-66fc49e85535",
   "metadata": {},
   "outputs": [
    {
     "name": "stdout",
     "output_type": "stream",
     "text": [
      "Requirement already satisfied: pymed in ./lib/python3.12/site-packages (0.8.9)\n",
      "Requirement already satisfied: requests>=2.20.0 in ./lib/python3.12/site-packages (from pymed) (2.32.3)\n",
      "Requirement already satisfied: charset-normalizer<4,>=2 in ./lib/python3.12/site-packages (from requests>=2.20.0->pymed) (3.4.0)\n",
      "Requirement already satisfied: idna<4,>=2.5 in ./lib/python3.12/site-packages (from requests>=2.20.0->pymed) (3.10)\n",
      "Requirement already satisfied: urllib3<3,>=1.21.1 in ./lib/python3.12/site-packages (from requests>=2.20.0->pymed) (2.2.3)\n",
      "Requirement already satisfied: certifi>=2017.4.17 in ./lib/python3.12/site-packages (from requests>=2.20.0->pymed) (2024.8.30)\n"
     ]
    }
   ],
   "source": [
    "!pip install pymed"
   ]
  },
  {
   "cell_type": "code",
   "execution_count": 5,
   "id": "bd85e8e9-4a99-4f1c-8c44-31200ac1dac7",
   "metadata": {},
   "outputs": [
    {
     "ename": "ModuleNotFoundError",
     "evalue": "No module named 'pymed'",
     "output_type": "error",
     "traceback": [
      "\u001b[0;31m---------------------------------------------------------------------------\u001b[0m",
      "\u001b[0;31mModuleNotFoundError\u001b[0m                       Traceback (most recent call last)",
      "Cell \u001b[0;32mIn[5], line 1\u001b[0m\n\u001b[0;32m----> 1\u001b[0m \u001b[38;5;28;01mimport\u001b[39;00m \u001b[38;5;21;01mpymed\u001b[39;00m\n",
      "\u001b[0;31mModuleNotFoundError\u001b[0m: No module named 'pymed'"
     ]
    }
   ],
   "source": [
    "import pymed"
   ]
  },
  {
   "cell_type": "code",
   "execution_count": null,
   "id": "647dd604-9032-422e-84cb-cb6dfda9bc0b",
   "metadata": {},
   "outputs": [],
   "source": []
  }
 ],
 "metadata": {
  "kernelspec": {
   "display_name": "Python 3 (ipykernel)",
   "language": "python",
   "name": "python3"
  },
  "language_info": {
   "codemirror_mode": {
    "name": "ipython",
    "version": 3
   },
   "file_extension": ".py",
   "mimetype": "text/x-python",
   "name": "python",
   "nbconvert_exporter": "python",
   "pygments_lexer": "ipython3",
   "version": "3.12.0"
  }
 },
 "nbformat": 4,
 "nbformat_minor": 5
}
