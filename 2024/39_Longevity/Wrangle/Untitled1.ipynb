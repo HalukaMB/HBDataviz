{
 "cells": [
  {
   "cell_type": "code",
   "execution_count": 1,
   "id": "2f3909f0-0cef-43a3-99fb-bb19a4245cdd",
   "metadata": {},
   "outputs": [],
   "source": [
    "from jupyter_client import find_connection_file"
   ]
  },
  {
   "cell_type": "code",
   "execution_count": 2,
   "id": "93cc085d-94e6-46af-8558-b50200af3105",
   "metadata": {},
   "outputs": [
    {
     "data": {
      "text/plain": [
       "'/Users/halukamb/Library/Jupyter/runtime/kernel-d00d0d16-89e8-4ec3-9bff-7b0e2f9e8163.json'"
      ]
     },
     "execution_count": 2,
     "metadata": {},
     "output_type": "execute_result"
    }
   ],
   "source": [
    "find_connection_file()"
   ]
  },
  {
   "cell_type": "code",
   "execution_count": null,
   "id": "a46fabe2-1e5b-43b4-b2ca-81b6e870ad98",
   "metadata": {},
   "outputs": [],
   "source": []
  }
 ],
 "metadata": {
  "kernelspec": {
   "display_name": "Python 3 (ipykernel)",
   "language": "python",
   "name": "python3"
  },
  "language_info": {
   "codemirror_mode": {
    "name": "ipython",
    "version": 3
   },
   "file_extension": ".py",
   "mimetype": "text/x-python",
   "name": "python",
   "nbconvert_exporter": "python",
   "pygments_lexer": "ipython3",
   "version": "3.12.0"
  }
 },
 "nbformat": 4,
 "nbformat_minor": 5
}
