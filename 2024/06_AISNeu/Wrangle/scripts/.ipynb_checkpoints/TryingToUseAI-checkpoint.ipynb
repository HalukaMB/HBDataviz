{
 "cells": [
  {
   "cell_type": "code",
   "execution_count": 8,
   "id": "3502ec14-730a-49ca-a2c9-2e86d1661941",
   "metadata": {},
   "outputs": [],
   "source": [
    "import asyncio\n",
    "import websockets\n",
    "import json\n",
    "import pandas as pd\n",
    "from datetime import datetime, timezone\n",
    "\n",
    "apiKeys = pd.read_csv(\"/Users/maier-borst.h/Documents/apiKeys.csv\", sep=\";\")\n",
    "apiKeyAIS = apiKeys[apiKeys[\"Service\"] == \"AISStream\"][\"key\"].iloc[0]\n"
   ]
  },
  {
   "cell_type": "code",
   "execution_count": 14,
   "id": "8eb87c0d-654a-4eb0-ac46-c1687dd36e67",
   "metadata": {},
   "outputs": [],
   "source": [
    "async def connect_ais_stream():\n",
    "    async with websockets.connect(\"wss://stream.aisstream.io/v0/stream\") as websocket:\n",
    "        subscribe_message = {\n",
    "            \"APIKey\": apiKeyAIS,  # Required !\n",
    "            \"BoundingBoxes\": [\n",
    "          [\n",
    "            [\n",
    "              30.40921772695401,\n",
    "                31.844734608073395\n",
    "            ],\n",
    "            [\n",
    "              11.603304207355961,\n",
    "                              44.75088774620332\n",
    "            ]\n",
    "          ]\n",
    "        ],  # Required!\n",
    "            \"FilterMessageTypes\": [\"PositionReport\"]  # Optional!\n",
    "        }\n",
    "\n",
    "        subscribe_message_json = json.dumps(subscribe_message)\n",
    "        await websocket.send(subscribe_message_json)\n",
    "\n",
    "        try:\n",
    "            await asyncio.wait_for(process_messages(websocket), timeout=120)\n",
    "        except asyncio.TimeoutError:\n",
    "            print(\"Timeout occurred. Stopping execution.\")\n",
    "\n",
    "async def process_messages(websocket):\n",
    "    async for message_json in websocket:\n",
    "        message = json.loads(message_json)\n",
    "        message_type = message[\"MessageType\"]\n",
    "        websocket.close()\n",
    "\n",
    "        if message_type == \"PositionReport\":\n",
    "            ais_message = message['Message']['PositionReport']\n",
    "            print(f\"[{datetime.now(timezone.utc)}] ShipId: {ais_message['UserID']} Latitude: {ais_message['Latitude']} Longitude: {ais_message['Longitude']}\")\n",
    "\n",
    "# Call the function\n",
    "#asyncio.run(connect_ais_stream())"
   ]
  },
  {
   "cell_type": "code",
   "execution_count": 15,
   "id": "513d7494-53b3-4bcf-9b25-12260dfeb062",
   "metadata": {},
   "outputs": [
    {
     "name": "stdout",
     "output_type": "stream",
     "text": [
      "Timeout occurred. Stopping execution.\n"
     ]
    }
   ],
   "source": [
    "await connect_ais_stream()"
   ]
  },
  {
   "cell_type": "code",
   "execution_count": null,
   "id": "9ca9a10b-62d6-48a6-8614-a1848d0a2f4e",
   "metadata": {},
   "outputs": [],
   "source": []
  }
 ],
 "metadata": {
  "kernelspec": {
   "display_name": "Python 3 (ipykernel)",
   "language": "python",
   "name": "python3"
  },
  "language_info": {
   "codemirror_mode": {
    "name": "ipython",
    "version": 3
   },
   "file_extension": ".py",
   "mimetype": "text/x-python",
   "name": "python",
   "nbconvert_exporter": "python",
   "pygments_lexer": "ipython3",
   "version": "3.9.6"
  }
 },
 "nbformat": 4,
 "nbformat_minor": 5
}
