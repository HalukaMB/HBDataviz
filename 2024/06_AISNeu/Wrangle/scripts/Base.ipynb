{
 "cells": [
  {
   "cell_type": "code",
   "execution_count": 4,
   "id": "3502ec14-730a-49ca-a2c9-2e86d1661941",
   "metadata": {},
   "outputs": [],
   "source": [
    "import asyncio\n",
    "import websockets\n",
    "import json\n",
    "import pandas as pd\n",
    "apiKeys=pd.read_csv(\"/Users/maier-borst.h/Documents/apiKeys.csv\", sep=\";\")\n",
    "apiKeyAIS=apiKeys[apiKeys[\"Service\"]==\"AISStream\"][\"key\"].iloc[0]\n",
    "apiKeyAIS\n",
    "from datetime import datetime, timezone\n",
    "\n",
    "async def connect_ais_stream():\n",
    "\n",
    "    async with websockets.connect(\"wss://stream.aisstream.io/v0/stream\") as websocket:\n",
    "        subscribe_message = {\"APIKey\": apiKeyAIS,  # Required !\n",
    "                             \"BoundingBoxes\": [[[-120, -10], [0, 10]]], # Required!\n",
    "                             \"FilterMessageTypes\": [\"PositionReport\"]} # Optional!\n",
    "\n",
    "        subscribe_message_json = json.dumps(subscribe_message)\n",
    "        await websocket.send(subscribe_message_json)\n",
    "        print(websocket)\n",
    "        async for message_json in websocket:\n",
    "            message = json.loads(message_json)\n",
    "            message_type = message[\"MessageType\"]\n",
    "            websocket.close();\n",
    "\n",
    "            if message_type == \"PositionReport\":\n",
    "                # the message parameter contains a key of the message type which contains the message itself\n",
    "                ais_message = message['Message']['PositionReport']\n",
    "                print(f\"[{datetime.now(timezone.utc)}] ShipId: {ais_message['UserID']} Latitude: {ais_message['Latitude']} Latitude: {ais_message['Longitude']}\")\n",
    "\n"
   ]
  },
  {
   "cell_type": "code",
   "execution_count": 23,
   "id": "cb4c12a4-809a-40c5-be33-5bd622e58038",
   "metadata": {},
   "outputs": [],
   "source": [
    "await(connect_ais_stream())"
   ]
  },
  {
   "cell_type": "code",
   "execution_count": 25,
   "id": "8eb87c0d-654a-4eb0-ac46-c1687dd36e67",
   "metadata": {},
   "outputs": [
    {
     "ename": "RuntimeError",
     "evalue": "asyncio.run() cannot be called from a running event loop",
     "output_type": "error",
     "traceback": [
      "\u001b[0;31m---------------------------------------------------------------------------\u001b[0m",
      "\u001b[0;31mRuntimeError\u001b[0m                              Traceback (most recent call last)",
      "Cell \u001b[0;32mIn[25], line 28\u001b[0m\n\u001b[1;32m     25\u001b[0m             \u001b[38;5;28mprint\u001b[39m(\u001b[38;5;124mf\u001b[39m\u001b[38;5;124m\"\u001b[39m\u001b[38;5;124m[\u001b[39m\u001b[38;5;132;01m{\u001b[39;00mdatetime\u001b[38;5;241m.\u001b[39mnow(timezone\u001b[38;5;241m.\u001b[39mutc)\u001b[38;5;132;01m}\u001b[39;00m\u001b[38;5;124m] ShipId: \u001b[39m\u001b[38;5;132;01m{\u001b[39;00mais_message[\u001b[38;5;124m'\u001b[39m\u001b[38;5;124mUserID\u001b[39m\u001b[38;5;124m'\u001b[39m]\u001b[38;5;132;01m}\u001b[39;00m\u001b[38;5;124m Latitude: \u001b[39m\u001b[38;5;132;01m{\u001b[39;00mais_message[\u001b[38;5;124m'\u001b[39m\u001b[38;5;124mLatitude\u001b[39m\u001b[38;5;124m'\u001b[39m]\u001b[38;5;132;01m}\u001b[39;00m\u001b[38;5;124m Latitude: \u001b[39m\u001b[38;5;132;01m{\u001b[39;00mais_message[\u001b[38;5;124m'\u001b[39m\u001b[38;5;124mLongitude\u001b[39m\u001b[38;5;124m'\u001b[39m]\u001b[38;5;132;01m}\u001b[39;00m\u001b[38;5;124m\"\u001b[39m)\n\u001b[1;32m     27\u001b[0m \u001b[38;5;66;03m# Call the function\u001b[39;00m\n\u001b[0;32m---> 28\u001b[0m \u001b[43masyncio\u001b[49m\u001b[38;5;241;43m.\u001b[39;49m\u001b[43mrun\u001b[49m\u001b[43m(\u001b[49m\u001b[43mconnect_ais_stream\u001b[49m\u001b[43m(\u001b[49m\u001b[43m)\u001b[49m\u001b[43m)\u001b[49m\n",
      "File \u001b[0;32m/Library/Developer/CommandLineTools/Library/Frameworks/Python3.framework/Versions/3.9/lib/python3.9/asyncio/runners.py:33\u001b[0m, in \u001b[0;36mrun\u001b[0;34m(main, debug)\u001b[0m\n\u001b[1;32m      9\u001b[0m \u001b[38;5;250m\u001b[39m\u001b[38;5;124;03m\"\"\"Execute the coroutine and return the result.\u001b[39;00m\n\u001b[1;32m     10\u001b[0m \n\u001b[1;32m     11\u001b[0m \u001b[38;5;124;03mThis function runs the passed coroutine, taking care of\u001b[39;00m\n\u001b[0;32m   (...)\u001b[0m\n\u001b[1;32m     30\u001b[0m \u001b[38;5;124;03m    asyncio.run(main())\u001b[39;00m\n\u001b[1;32m     31\u001b[0m \u001b[38;5;124;03m\"\"\"\u001b[39;00m\n\u001b[1;32m     32\u001b[0m \u001b[38;5;28;01mif\u001b[39;00m events\u001b[38;5;241m.\u001b[39m_get_running_loop() \u001b[38;5;129;01mis\u001b[39;00m \u001b[38;5;129;01mnot\u001b[39;00m \u001b[38;5;28;01mNone\u001b[39;00m:\n\u001b[0;32m---> 33\u001b[0m     \u001b[38;5;28;01mraise\u001b[39;00m \u001b[38;5;167;01mRuntimeError\u001b[39;00m(\n\u001b[1;32m     34\u001b[0m         \u001b[38;5;124m\"\u001b[39m\u001b[38;5;124masyncio.run() cannot be called from a running event loop\u001b[39m\u001b[38;5;124m\"\u001b[39m)\n\u001b[1;32m     36\u001b[0m \u001b[38;5;28;01mif\u001b[39;00m \u001b[38;5;129;01mnot\u001b[39;00m coroutines\u001b[38;5;241m.\u001b[39miscoroutine(main):\n\u001b[1;32m     37\u001b[0m     \u001b[38;5;28;01mraise\u001b[39;00m \u001b[38;5;167;01mValueError\u001b[39;00m(\u001b[38;5;124m\"\u001b[39m\u001b[38;5;124ma coroutine was expected, got \u001b[39m\u001b[38;5;132;01m{!r}\u001b[39;00m\u001b[38;5;124m\"\u001b[39m\u001b[38;5;241m.\u001b[39mformat(main))\n",
      "\u001b[0;31mRuntimeError\u001b[0m: asyncio.run() cannot be called from a running event loop"
     ]
    }
   ],
   "source": [
    "async def connect_ais_stream():\n",
    "    async with websockets.connect(\"wss://stream.aisstream.io/v0/stream\") as websocket:\n",
    "        subscribe_message = {\n",
    "            \"APIKey\": apiKeyAIS,  # Required !\n",
    "            \"BoundingBoxes\": [[[-120, -10], [0, 10]]],  # Required!\n",
    "            \"FilterMessageTypes\": [\"PositionReport\"]  # Optional!\n",
    "        }\n",
    "\n",
    "        subscribe_message_json = json.dumps(subscribe_message)\n",
    "        await websocket.send(subscribe_message_json)\n",
    "\n",
    "        try:\n",
    "            await asyncio.wait_for(process_messages(websocket), timeout=10)\n",
    "        except asyncio.TimeoutError:\n",
    "            print(\"Timeout occurred. Stopping execution.\")\n",
    "\n",
    "async def process_messages(websocket):\n",
    "    async for message_json in websocket:\n",
    "        message = json.loads(message_json)\n",
    "        message_type = message[\"MessageType\"]\n",
    "        websocket.close()\n",
    "\n",
    "        if message_type == \"PositionReport\":\n",
    "            ais_message = message['Message']['PositionReport']\n",
    "            print(f\"[{datetime.now(timezone.utc)}] ShipId: {ais_message['UserID']} Latitude: {ais_message['Latitude']} Latitude: {ais_message['Longitude']}\")\n",
    "\n",
    "# Call the function\n"
   ]
  },
  {
   "cell_type": "code",
   "execution_count": 26,
   "id": "88e67be2-c12f-4d17-afed-8befab510715",
   "metadata": {},
   "outputs": [
    {
     "data": {
      "text/plain": [
       "<coroutine object connect_ais_stream at 0x119282040>"
      ]
     },
     "execution_count": 26,
     "metadata": {},
     "output_type": "execute_result"
    }
   ],
   "source": [
    "(connect_ais_stream())"
   ]
  },
  {
   "cell_type": "code",
   "execution_count": null,
   "id": "a8efba26-6e83-4cb4-b9ed-07f0f161dd6c",
   "metadata": {},
   "outputs": [],
   "source": []
  },
  {
   "cell_type": "code",
   "execution_count": null,
   "id": "a1dddcec-4645-4257-8907-edb5a01997f5",
   "metadata": {},
   "outputs": [],
   "source": []
  }
 ],
 "metadata": {
  "kernelspec": {
   "display_name": "Python 3 (ipykernel)",
   "language": "python",
   "name": "python3"
  },
  "language_info": {
   "codemirror_mode": {
    "name": "ipython",
    "version": 3
   },
   "file_extension": ".py",
   "mimetype": "text/x-python",
   "name": "python",
   "nbconvert_exporter": "python",
   "pygments_lexer": "ipython3",
   "version": "3.9.6"
  }
 },
 "nbformat": 4,
 "nbformat_minor": 5
}
