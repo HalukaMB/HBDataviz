{
 "cells": [
  {
   "cell_type": "code",
   "execution_count": 23,
   "id": "3502ec14-730a-49ca-a2c9-2e86d1661941",
   "metadata": {},
   "outputs": [],
   "source": [
    "import asyncio\n",
    "import websockets\n",
    "import json\n",
    "import pandas as pd\n",
    "apiKeys=pd.read_csv(\"/Users/maier-borst.h/Documents/apiKeys.csv\", sep=\";\")\n",
    "apiKeyAIS=apiKeys[apiKeys[\"Service\"]==\"AISStream\"][\"key\"].iloc[0]\n",
    "apiKeyAIS\n",
    "from datetime import datetime, timezone\n",
    "\n",
    "async def connect_ais_stream():\n",
    "\n",
    "    async with websockets.connect(\"wss://stream.aisstream.io/v0/stream\") as websocket:\n",
    "        subscribe_message = {\"APIKey\": apiKeyAIS,  # Required !\n",
    "                             \"BoundingBoxes\": [[[-120, -10], [0, 10]]], # Required!\n",
    "                             \"FilterMessageTypes\": [\"PositionReport\"]} # Optional!\n",
    "\n",
    "        subscribe_message_json = json.dumps(subscribe_message)\n",
    "        await websocket.send(subscribe_message_json)\n",
    "        print(websocket)\n",
    "        async for message_json in websocket:\n",
    "            message = json.loads(message_json)\n",
    "            message_type = message[\"MessageType\"]\n",
    "            websocket.close();\n",
    "\n",
    "            if message_type == \"PositionReport\":\n",
    "                # the message parameter contains a key of the message type which contains the message itself\n",
    "                ais_message = message['Message']['PositionReport']\n",
    "                print(f\"[{datetime.now(timezone.utc)}] ShipId: {ais_message['UserID']} Latitude: {ais_message['Latitude']} Latitude: {ais_message['Longitude']}\")\n",
    "\n"
   ]
  },
  {
   "cell_type": "code",
   "execution_count": 6,
   "id": "d0bf4437-02af-42d6-bfb4-1fc805a28a5a",
   "metadata": {},
   "outputs": [
    {
     "name": "stdout",
     "output_type": "stream",
     "text": [
      "<websockets.legacy.client.WebSocketClientProtocol object at 0x103c76b80>\n"
     ]
    },
    {
     "name": "stderr",
     "output_type": "stream",
     "text": [
      "/var/folders/55/79cxhkf56b38c317w6g5zkr0mmx5lp/T/ipykernel_30993/2793776042.py:23: RuntimeWarning: coroutine 'WebSocketCommonProtocol.close' was never awaited\n",
      "  websocket.close();\n",
      "RuntimeWarning: Enable tracemalloc to get the object allocation traceback\n"
     ]
    },
    {
     "name": "stdout",
     "output_type": "stream",
     "text": [
      "[2024-03-12 10:09:24.060136+00:00] ShipId: 367480140 Latitude: 0 Latitude: 0\n",
      "[2024-03-12 10:09:24.271096+00:00] ShipId: 303308000 Latitude: 0 Latitude: 0\n"
     ]
    },
    {
     "ename": "CancelledError",
     "evalue": "",
     "output_type": "error",
     "traceback": [
      "\u001b[0;31m---------------------------------------------------------------------------\u001b[0m",
      "\u001b[0;31mCancelledError\u001b[0m                            Traceback (most recent call last)",
      "Cell \u001b[0;32mIn[6], line 1\u001b[0m\n\u001b[0;32m----> 1\u001b[0m \u001b[38;5;28;01mawait\u001b[39;00m connect_ais_stream()\n",
      "Cell \u001b[0;32mIn[5], line 20\u001b[0m, in \u001b[0;36mconnect_ais_stream\u001b[0;34m()\u001b[0m\n\u001b[1;32m     18\u001b[0m \u001b[38;5;28;01mawait\u001b[39;00m websocket\u001b[38;5;241m.\u001b[39msend(subscribe_message_json)\n\u001b[1;32m     19\u001b[0m \u001b[38;5;28mprint\u001b[39m(websocket)\n\u001b[0;32m---> 20\u001b[0m \u001b[38;5;28;01masync\u001b[39;00m \u001b[38;5;28;01mfor\u001b[39;00m message_json \u001b[38;5;129;01min\u001b[39;00m websocket:\n\u001b[1;32m     21\u001b[0m     message \u001b[38;5;241m=\u001b[39m json\u001b[38;5;241m.\u001b[39mloads(message_json)\n\u001b[1;32m     22\u001b[0m     message_type \u001b[38;5;241m=\u001b[39m message[\u001b[38;5;124m\"\u001b[39m\u001b[38;5;124mMessageType\u001b[39m\u001b[38;5;124m\"\u001b[39m]\n",
      "File \u001b[0;32m~/Documents/CodeRelated/HBDataviz/2024/06_AISNeu/Wrangle/lib/python3.9/site-packages/websockets/legacy/protocol.py:498\u001b[0m, in \u001b[0;36mWebSocketCommonProtocol.__aiter__\u001b[0;34m(self)\u001b[0m\n\u001b[1;32m    496\u001b[0m \u001b[38;5;28;01mtry\u001b[39;00m:\n\u001b[1;32m    497\u001b[0m     \u001b[38;5;28;01mwhile\u001b[39;00m \u001b[38;5;28;01mTrue\u001b[39;00m:\n\u001b[0;32m--> 498\u001b[0m         \u001b[38;5;28;01myield\u001b[39;00m \u001b[38;5;28;01mawait\u001b[39;00m \u001b[38;5;28mself\u001b[39m\u001b[38;5;241m.\u001b[39mrecv()\n\u001b[1;32m    499\u001b[0m \u001b[38;5;28;01mexcept\u001b[39;00m ConnectionClosedOK:\n\u001b[1;32m    500\u001b[0m     \u001b[38;5;28;01mreturn\u001b[39;00m\n",
      "File \u001b[0;32m~/Documents/CodeRelated/HBDataviz/2024/06_AISNeu/Wrangle/lib/python3.9/site-packages/websockets/legacy/protocol.py:552\u001b[0m, in \u001b[0;36mWebSocketCommonProtocol.recv\u001b[0;34m(self)\u001b[0m\n\u001b[1;32m    548\u001b[0m \u001b[38;5;28mself\u001b[39m\u001b[38;5;241m.\u001b[39m_pop_message_waiter \u001b[38;5;241m=\u001b[39m pop_message_waiter\n\u001b[1;32m    549\u001b[0m \u001b[38;5;28;01mtry\u001b[39;00m:\n\u001b[1;32m    550\u001b[0m     \u001b[38;5;66;03m# If asyncio.wait() is canceled, it doesn't cancel\u001b[39;00m\n\u001b[1;32m    551\u001b[0m     \u001b[38;5;66;03m# pop_message_waiter and self.transfer_data_task.\u001b[39;00m\n\u001b[0;32m--> 552\u001b[0m     \u001b[38;5;28;01mawait\u001b[39;00m asyncio\u001b[38;5;241m.\u001b[39mwait(\n\u001b[1;32m    553\u001b[0m         [pop_message_waiter, \u001b[38;5;28mself\u001b[39m\u001b[38;5;241m.\u001b[39mtransfer_data_task],\n\u001b[1;32m    554\u001b[0m         return_when\u001b[38;5;241m=\u001b[39masyncio\u001b[38;5;241m.\u001b[39mFIRST_COMPLETED,\n\u001b[1;32m    555\u001b[0m     )\n\u001b[1;32m    556\u001b[0m \u001b[38;5;28;01mfinally\u001b[39;00m:\n\u001b[1;32m    557\u001b[0m     \u001b[38;5;28mself\u001b[39m\u001b[38;5;241m.\u001b[39m_pop_message_waiter \u001b[38;5;241m=\u001b[39m \u001b[38;5;28;01mNone\u001b[39;00m\n",
      "File \u001b[0;32m/Library/Developer/CommandLineTools/Library/Frameworks/Python3.framework/Versions/3.9/lib/python3.9/asyncio/tasks.py:413\u001b[0m, in \u001b[0;36mwait\u001b[0;34m(fs, loop, timeout, return_when)\u001b[0m\n\u001b[1;32m    406\u001b[0m     warnings\u001b[38;5;241m.\u001b[39mwarn(\u001b[38;5;124m\"\u001b[39m\u001b[38;5;124mThe explicit passing of coroutine objects to \u001b[39m\u001b[38;5;124m\"\u001b[39m\n\u001b[1;32m    407\u001b[0m                   \u001b[38;5;124m\"\u001b[39m\u001b[38;5;124masyncio.wait() is deprecated since Python 3.8, and \u001b[39m\u001b[38;5;124m\"\u001b[39m\n\u001b[1;32m    408\u001b[0m                   \u001b[38;5;124m\"\u001b[39m\u001b[38;5;124mscheduled for removal in Python 3.11.\u001b[39m\u001b[38;5;124m\"\u001b[39m,\n\u001b[1;32m    409\u001b[0m                   \u001b[38;5;167;01mDeprecationWarning\u001b[39;00m, stacklevel\u001b[38;5;241m=\u001b[39m\u001b[38;5;241m2\u001b[39m)\n\u001b[1;32m    411\u001b[0m fs \u001b[38;5;241m=\u001b[39m {ensure_future(f, loop\u001b[38;5;241m=\u001b[39mloop) \u001b[38;5;28;01mfor\u001b[39;00m f \u001b[38;5;129;01min\u001b[39;00m fs}\n\u001b[0;32m--> 413\u001b[0m \u001b[38;5;28;01mreturn\u001b[39;00m \u001b[38;5;28;01mawait\u001b[39;00m _wait(fs, timeout, return_when, loop)\n",
      "File \u001b[0;32m/Library/Developer/CommandLineTools/Library/Frameworks/Python3.framework/Versions/3.9/lib/python3.9/asyncio/tasks.py:529\u001b[0m, in \u001b[0;36m_wait\u001b[0;34m(fs, timeout, return_when, loop)\u001b[0m\n\u001b[1;32m    526\u001b[0m     f\u001b[38;5;241m.\u001b[39madd_done_callback(_on_completion)\n\u001b[1;32m    528\u001b[0m \u001b[38;5;28;01mtry\u001b[39;00m:\n\u001b[0;32m--> 529\u001b[0m     \u001b[38;5;28;01mawait\u001b[39;00m waiter\n\u001b[1;32m    530\u001b[0m \u001b[38;5;28;01mfinally\u001b[39;00m:\n\u001b[1;32m    531\u001b[0m     \u001b[38;5;28;01mif\u001b[39;00m timeout_handle \u001b[38;5;129;01mis\u001b[39;00m \u001b[38;5;129;01mnot\u001b[39;00m \u001b[38;5;28;01mNone\u001b[39;00m:\n",
      "\u001b[0;31mCancelledError\u001b[0m: "
     ]
    }
   ],
   "source": [
    "await connect_ais_stream()"
   ]
  },
  {
   "cell_type": "code",
   "execution_count": 41,
   "id": "8eb87c0d-654a-4eb0-ac46-c1687dd36e67",
   "metadata": {},
   "outputs": [],
   "source": [
    "async def connect_ais_stream():\n",
    "    async with websockets.connect(\"wss://stream.aisstream.io/v0/stream\") as websocket:\n",
    "        subscribe_message = {\n",
    "            \"APIKey\": apiKeyAIS,  # Required !\n",
    "            \"BoundingBoxes\": [[[41.97, 12.53], [43.66, 13.83]]],  # Required!\n",
    "            \"FilterMessageTypes\": [\"PositionReport\"]  # Optional!\n",
    "        }\n",
    "\n",
    "        subscribe_message_json = json.dumps(subscribe_message)\n",
    "        await websocket.send(subscribe_message_json)\n",
    "\n",
    "        try:\n",
    "            await asyncio.wait_for(process_messages(websocket), timeout=120)\n",
    "        except asyncio.TimeoutError:\n",
    "            print(\"Timeout occurred. Stopping execution.\")\n",
    "\n",
    "async def process_messages(websocket):\n",
    "    async for message_json in websocket:\n",
    "        message = json.loads(message_json)\n",
    "        message_type = message[\"MessageType\"]\n",
    "        websocket.close()\n",
    "\n",
    "        ais_message = message['Message']\n",
    "        print(f\"[{datetime.now(timezone.utc)}] ShipId: {ais_message['UserID']} Latitude: {ais_message['Latitude']} Longitude: {ais_message['Longitude']}\")\n",
    "\n",
    "# Call the function\n",
    "#asyncio.run(connect_ais_stream())"
   ]
  },
  {
   "cell_type": "code",
   "execution_count": 39,
   "id": "88e67be2-c12f-4d17-afed-8befab510715",
   "metadata": {},
   "outputs": [],
   "source": [
    "#need this for script not in pynb asyncio.run(connect_ais_stream())\n"
   ]
  },
  {
   "cell_type": "code",
   "execution_count": 26,
   "id": "e00407b8-e4cb-4f4c-a519-ce5118a29685",
   "metadata": {},
   "outputs": [],
   "source": [
    "counter = 1\n",
    "async def connect_ais_stream_ai(counter):\n",
    "    async with websockets.connect(\"wss://stream.aisstream.io/v0/stream\") as websocket:\n",
    "        subscribe_message = {\n",
    "            \"APIKey\": apiKeyAIS,  # Required !\n",
    "            \"BoundingBoxes\": [[[-120, -10], [0, 10]]],  # Required!\n",
    "            \"FilterMessageTypes\": [\"PositionReport\"]  # Optional!\n",
    "        }\n",
    "\n",
    "        subscribe_message_json = json.dumps(subscribe_message)\n",
    "        while(counter<10):\n",
    "            await websocket.send(subscribe_message_json)\n",
    "    \n",
    "            try:\n",
    "                await asyncio.wait_for(process_messages(websocket, counter), timeout=30)\n",
    "            except asyncio.TimeoutError:\n",
    "                print(\"Timeout occurred. Stopping execution.\")\n",
    "        print(\"Done\")\n",
    "async def process_messages(websocket, counter):\n",
    "    async for message_json in websocket:\n",
    "        message = json.loads(message_json)\n",
    "        try:\n",
    "            message_type = message[\"MessageType\"]\n",
    "            websocket.close()\n",
    "    \n",
    "            if message_type == \"PositionReport\":\n",
    "                print(counter)\n",
    "                ais_message = message['Message']['PositionReport']\n",
    "                print(f\"[{datetime.now(timezone.utc)}] ShipId: {ais_message['UserID']} Latitude: {ais_message['Latitude']} Latitude: {ais_message['Longitude']}\")\n",
    "                counter=counter+1\n",
    "            \n",
    "# Call the function\n"
   ]
  },
  {
   "cell_type": "code",
   "execution_count": 42,
   "id": "d06a885e-99c9-4520-aba8-a71137617e63",
   "metadata": {},
   "outputs": [
    {
     "name": "stdout",
     "output_type": "stream",
     "text": [
      "Timeout occurred. Stopping execution.\n"
     ]
    }
   ],
   "source": [
    "await(connect_ais_stream())"
   ]
  },
  {
   "cell_type": "code",
   "execution_count": null,
   "id": "9ca9a10b-62d6-48a6-8614-a1848d0a2f4e",
   "metadata": {},
   "outputs": [],
   "source": []
  }
 ],
 "metadata": {
  "kernelspec": {
   "display_name": "Python 3 (ipykernel)",
   "language": "python",
   "name": "python3"
  },
  "language_info": {
   "codemirror_mode": {
    "name": "ipython",
    "version": 3
   },
   "file_extension": ".py",
   "mimetype": "text/x-python",
   "name": "python",
   "nbconvert_exporter": "python",
   "pygments_lexer": "ipython3",
   "version": "3.9.6"
  }
 },
 "nbformat": 4,
 "nbformat_minor": 5
}
