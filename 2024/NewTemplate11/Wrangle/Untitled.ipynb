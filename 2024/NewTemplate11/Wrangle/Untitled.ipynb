{
 "cells": [
  {
   "cell_type": "code",
   "execution_count": 1,
   "id": "65f1cae9-56f1-4047-993b-0ae1b1737ce3",
   "metadata": {},
   "outputs": [
    {
     "name": "stdout",
     "output_type": "stream",
     "text": [
      "/Library/Frameworks/Python.framework/Versions/3.11/bin/python3\n"
     ]
    }
   ],
   "source": [
    " import sys\n",
    " print(sys.executable) "
   ]
  },
  {
   "cell_type": "code",
   "execution_count": 2,
   "id": "0b07629a-f5ba-482a-83fc-35042a02dbf7",
   "metadata": {},
   "outputs": [],
   "source": [
    "sys.path.append('./lib/python3.11/site-packages')\n"
   ]
  },
  {
   "cell_type": "code",
   "execution_count": 3,
   "id": "241f7e73-ef08-457d-a547-8db5ee04b5ef",
   "metadata": {},
   "outputs": [
    {
     "name": "stdout",
     "output_type": "stream",
     "text": [
      "Collecting pinscrape\n",
      "  Using cached pinscrape-4.0.0-py3-none-any.whl (9.0 kB)\n",
      "Collecting pytest==7.2.0\n",
      "  Using cached pytest-7.2.0-py3-none-any.whl (316 kB)\n",
      "Requirement already satisfied: requests~=2.32.2 in /Library/Frameworks/Python.framework/Versions/3.11/lib/python3.11/site-packages (from pinscrape) (2.32.3)\n",
      "Collecting beautifulsoup4==4.11.1\n",
      "  Using cached beautifulsoup4-4.11.1-py3-none-any.whl (128 kB)\n",
      "Collecting pydotmap~=0.1.3\n",
      "  Using cached pydotmap-0.1.3-py3-none-any.whl (4.1 kB)\n",
      "Collecting opencv-python~=4.9.0.80\n",
      "  Using cached opencv_python-4.9.0.80-cp37-abi3-macosx_11_0_arm64.whl (35.4 MB)\n",
      "Collecting numpy~=1.24.2\n",
      "  Using cached numpy-1.24.4-cp311-cp311-macosx_11_0_arm64.whl (13.8 MB)\n",
      "Requirement already satisfied: soupsieve>1.2 in /Library/Frameworks/Python.framework/Versions/3.11/lib/python3.11/site-packages (from beautifulsoup4==4.11.1->pinscrape) (2.6)\n",
      "Requirement already satisfied: attrs>=19.2.0 in /Library/Frameworks/Python.framework/Versions/3.11/lib/python3.11/site-packages (from pytest==7.2.0->pinscrape) (24.2.0)\n",
      "Collecting iniconfig\n",
      "  Using cached iniconfig-2.0.0-py3-none-any.whl (5.9 kB)\n",
      "Requirement already satisfied: packaging in /Library/Frameworks/Python.framework/Versions/3.11/lib/python3.11/site-packages (from pytest==7.2.0->pinscrape) (24.2)\n",
      "Collecting pluggy<2.0,>=0.12\n",
      "  Using cached pluggy-1.5.0-py3-none-any.whl (20 kB)\n",
      "Requirement already satisfied: charset-normalizer<4,>=2 in /Library/Frameworks/Python.framework/Versions/3.11/lib/python3.11/site-packages (from requests~=2.32.2->pinscrape) (3.4.0)\n",
      "Requirement already satisfied: idna<4,>=2.5 in /Library/Frameworks/Python.framework/Versions/3.11/lib/python3.11/site-packages (from requests~=2.32.2->pinscrape) (3.10)\n",
      "Requirement already satisfied: urllib3<3,>=1.21.1 in /Library/Frameworks/Python.framework/Versions/3.11/lib/python3.11/site-packages (from requests~=2.32.2->pinscrape) (2.2.3)\n",
      "Requirement already satisfied: certifi>=2017.4.17 in /Library/Frameworks/Python.framework/Versions/3.11/lib/python3.11/site-packages (from requests~=2.32.2->pinscrape) (2024.8.30)\n",
      "Installing collected packages: pydotmap, pluggy, numpy, iniconfig, beautifulsoup4, pytest, opencv-python, pinscrape\n",
      "  Attempting uninstall: beautifulsoup4\n",
      "    Found existing installation: beautifulsoup4 4.12.3\n",
      "    Uninstalling beautifulsoup4-4.12.3:\n",
      "      Successfully uninstalled beautifulsoup4-4.12.3\n",
      "Successfully installed beautifulsoup4-4.11.1 iniconfig-2.0.0 numpy-1.24.4 opencv-python-4.9.0.80 pinscrape-4.0.0 pluggy-1.5.0 pydotmap-0.1.3 pytest-7.2.0\n",
      "\n",
      "\u001b[1m[\u001b[0m\u001b[34;49mnotice\u001b[0m\u001b[1;39;49m]\u001b[0m\u001b[39;49m A new release of pip available: \u001b[0m\u001b[31;49m22.3\u001b[0m\u001b[39;49m -> \u001b[0m\u001b[32;49m24.3.1\u001b[0m\n",
      "\u001b[1m[\u001b[0m\u001b[34;49mnotice\u001b[0m\u001b[1;39;49m]\u001b[0m\u001b[39;49m To update, run: \u001b[0m\u001b[32;49mpip3 install --upgrade pip\u001b[0m\n"
     ]
    }
   ],
   "source": [
    "!pip3 install pinscrape"
   ]
  },
  {
   "cell_type": "code",
   "execution_count": 4,
   "id": "83015ae0-6f22-43df-bd68-44e60bfcd012",
   "metadata": {},
   "outputs": [
    {
     "name": "stdout",
     "output_type": "stream",
     "text": [
      "Requirement already satisfied: numpy<2.0 in /Library/Frameworks/Python.framework/Versions/3.11/lib/python3.11/site-packages (1.24.4)\n",
      "\n",
      "\u001b[1m[\u001b[0m\u001b[34;49mnotice\u001b[0m\u001b[1;39;49m]\u001b[0m\u001b[39;49m A new release of pip available: \u001b[0m\u001b[31;49m22.3\u001b[0m\u001b[39;49m -> \u001b[0m\u001b[32;49m24.3.1\u001b[0m\n",
      "\u001b[1m[\u001b[0m\u001b[34;49mnotice\u001b[0m\u001b[1;39;49m]\u001b[0m\u001b[39;49m To update, run: \u001b[0m\u001b[32;49mpip3 install --upgrade pip\u001b[0m\n",
      "Requirement already satisfied: pinscrape in /Library/Frameworks/Python.framework/Versions/3.11/lib/python3.11/site-packages (4.0.0)\n",
      "Requirement already satisfied: pytest==7.2.0 in /Library/Frameworks/Python.framework/Versions/3.11/lib/python3.11/site-packages (from pinscrape) (7.2.0)\n",
      "Requirement already satisfied: requests~=2.32.2 in /Library/Frameworks/Python.framework/Versions/3.11/lib/python3.11/site-packages (from pinscrape) (2.32.3)\n",
      "Requirement already satisfied: beautifulsoup4==4.11.1 in /Library/Frameworks/Python.framework/Versions/3.11/lib/python3.11/site-packages (from pinscrape) (4.11.1)\n",
      "Requirement already satisfied: pydotmap~=0.1.3 in /Library/Frameworks/Python.framework/Versions/3.11/lib/python3.11/site-packages (from pinscrape) (0.1.3)\n",
      "Requirement already satisfied: opencv-python~=4.9.0.80 in /Library/Frameworks/Python.framework/Versions/3.11/lib/python3.11/site-packages (from pinscrape) (4.9.0.80)\n",
      "Requirement already satisfied: numpy~=1.24.2 in /Library/Frameworks/Python.framework/Versions/3.11/lib/python3.11/site-packages (from pinscrape) (1.24.4)\n",
      "Requirement already satisfied: soupsieve>1.2 in /Library/Frameworks/Python.framework/Versions/3.11/lib/python3.11/site-packages (from beautifulsoup4==4.11.1->pinscrape) (2.6)\n",
      "Requirement already satisfied: attrs>=19.2.0 in /Library/Frameworks/Python.framework/Versions/3.11/lib/python3.11/site-packages (from pytest==7.2.0->pinscrape) (24.2.0)\n",
      "Requirement already satisfied: iniconfig in /Library/Frameworks/Python.framework/Versions/3.11/lib/python3.11/site-packages (from pytest==7.2.0->pinscrape) (2.0.0)\n",
      "Requirement already satisfied: packaging in /Library/Frameworks/Python.framework/Versions/3.11/lib/python3.11/site-packages (from pytest==7.2.0->pinscrape) (24.2)\n",
      "Requirement already satisfied: pluggy<2.0,>=0.12 in /Library/Frameworks/Python.framework/Versions/3.11/lib/python3.11/site-packages (from pytest==7.2.0->pinscrape) (1.5.0)\n",
      "Requirement already satisfied: charset-normalizer<4,>=2 in /Library/Frameworks/Python.framework/Versions/3.11/lib/python3.11/site-packages (from requests~=2.32.2->pinscrape) (3.4.0)\n",
      "Requirement already satisfied: idna<4,>=2.5 in /Library/Frameworks/Python.framework/Versions/3.11/lib/python3.11/site-packages (from requests~=2.32.2->pinscrape) (3.10)\n",
      "Requirement already satisfied: urllib3<3,>=1.21.1 in /Library/Frameworks/Python.framework/Versions/3.11/lib/python3.11/site-packages (from requests~=2.32.2->pinscrape) (2.2.3)\n",
      "Requirement already satisfied: certifi>=2017.4.17 in /Library/Frameworks/Python.framework/Versions/3.11/lib/python3.11/site-packages (from requests~=2.32.2->pinscrape) (2024.8.30)\n",
      "\n",
      "\u001b[1m[\u001b[0m\u001b[34;49mnotice\u001b[0m\u001b[1;39;49m]\u001b[0m\u001b[39;49m A new release of pip available: \u001b[0m\u001b[31;49m22.3\u001b[0m\u001b[39;49m -> \u001b[0m\u001b[32;49m24.3.1\u001b[0m\n",
      "\u001b[1m[\u001b[0m\u001b[34;49mnotice\u001b[0m\u001b[1;39;49m]\u001b[0m\u001b[39;49m To update, run: \u001b[0m\u001b[32;49mpip3 install --upgrade pip\u001b[0m\n"
     ]
    }
   ],
   "source": [
    "import sys\n",
    "!{sys.executable} -m pip install \"numpy<2.0\" \n",
    "!{sys.executable} -m pip install \"pinscrape\" \n"
   ]
  },
  {
   "cell_type": "code",
   "execution_count": 5,
   "id": "afc3a905-291c-4b14-98c1-955b5560e972",
   "metadata": {},
   "outputs": [],
   "source": [
    "import numpy"
   ]
  },
  {
   "cell_type": "code",
   "execution_count": 15,
   "id": "e7aaf7eb-975f-4773-ae9c-a34769964ac2",
   "metadata": {},
   "outputs": [],
   "source": [
    "from pinscrape import scraper, Pinterest\n",
    "\n",
    "\n",
    "keyword = \"dubaichocolate\"\n",
    "output_folder = \"output\"\n",
    "proxies = {}\n",
    "number_of_workers = 100000\n",
    "images_to_download = 0"
   ]
  },
  {
   "cell_type": "code",
   "execution_count": 22,
   "id": "f4685937-3fdc-4b18-bb54-e86e062b0671",
   "metadata": {},
   "outputs": [],
   "source": [
    "def using_search_engine():\n",
    "    details = scraper.scrape(keyword, output_folder, proxies, number_of_workers, images_to_download)\n",
    "    return(details)\n",
    "\n",
    "    if details[\"isDownloaded\"]:\n",
    "        print(\"\\nDownloading completed !!\")\n",
    "        print(f\"\\nTotal urls found: {len(details['extracted_urls'])}\")\n",
    "        print(f\"\\nTotal images downloaded (including duplicate images): {len(details['urls_list'])}\")\n",
    "        print(details)\n",
    "    else:\n",
    "        print(\"\\nNothing to download !!\", details)\n",
    "\n",
    "\n",
    "def using_pinterest_apis():\n",
    "    p = Pinterest(proxies=proxies) # you can also pass `user_agent` here.\n",
    "    images_url = p.search(keyword, images_to_download)\n",
    "    p.download(url_list=images_url, number_of_workers=number_of_workers, output_folder=output_folder)"
   ]
  },
  {
   "cell_type": "code",
   "execution_count": 19,
   "id": "8c12b7a4-ff93-455d-ac6b-33c25cc4d7ff",
   "metadata": {},
   "outputs": [
    {
     "name": "stdout",
     "output_type": "stream",
     "text": [
      "\n",
      "Nothing to download !! {'isDownloaded': False, 'search_engine_status_code': 200, 'urls_list': [], 'searched_urls': ['https://de.pinterest.com/ideas/dubai-schokolade-rezept/920073871…', 'bing.com/images', 'https://de.pinterest.com/ideas/dubai-schokolade-selber-machen/93…', 'https://www.pinterest.com/ideas/dubai-chocolate/899162804660', 'https://www.pinterest.com/pin/easy-recipes-on-instagram-dubai...', 'https://de.pinterest.com/pin/938015428632581746', 'https://www.pinterest.com/ideas/dubai-kunafa-chocolate/92007553…', 'https://www.lecker.de/dubai-schokolade-selber-mach…', 'https://www.patrickrosenthal.de/dubai-…', 'https://shibaskitchen.de/dubai-schokol…', 'https://www.pinterest.com/pin/my-latest-obsession-fyp-dubaichoco…', 'https://www.amazon.de'], 'extracted_urls': ['https://www.pinterest.com/pin/easy-recipes-on-instagram-dubai...', 'https://de.pinterest.com/pin/938015428632581746', 'https://www.pinterest.com/pin/my-latest-obsession-fyp-dubaichoco…'], 'keyword': 'dubaichocolate', 'error_stack': []}\n"
     ]
    }
   ],
   "source": [
    "details=using_search_engine()"
   ]
  },
  {
   "cell_type": "code",
   "execution_count": 21,
   "id": "f52656c4-d8d4-4ede-858d-72df2a9afeab",
   "metadata": {},
   "outputs": [],
   "source": [
    "details"
   ]
  },
  {
   "cell_type": "code",
   "execution_count": null,
   "id": "e23b5e6f-4bf0-4020-90ae-ce03f55adc38",
   "metadata": {},
   "outputs": [],
   "source": [
    "#https://saturncloud.io/blog/how-to-add-a-python-3-kernel-to-jupyter-ipython/"
   ]
  }
 ],
 "metadata": {
  "kernelspec": {
   "display_name": "Python 3 (ipykernel)",
   "language": "python",
   "name": "python3"
  },
  "language_info": {
   "codemirror_mode": {
    "name": "ipython",
    "version": 3
   },
   "file_extension": ".py",
   "mimetype": "text/x-python",
   "name": "python",
   "nbconvert_exporter": "python",
   "pygments_lexer": "ipython3",
   "version": "3.11.0"
  }
 },
 "nbformat": 4,
 "nbformat_minor": 5
}
