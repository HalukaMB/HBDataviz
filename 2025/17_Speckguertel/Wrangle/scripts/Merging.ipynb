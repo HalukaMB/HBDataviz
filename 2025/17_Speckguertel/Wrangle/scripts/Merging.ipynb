{
 "cells": [
  {
   "cell_type": "code",
   "execution_count": null,
   "metadata": {},
   "outputs": [
    {
     "ename": "",
     "evalue": "",
     "output_type": "error",
     "traceback": [
      "\u001b[1;31mRunning cells with 'Wrangle (Python 3.12.8)' requires the ipykernel package.\n",
      "\u001b[1;31mInstall 'ipykernel' into the Python environment. \n",
      "\u001b[1;31mCommand: '/Users/halukamaier-borst/Documents/CodeRelated/HBDataviz_new/2025/17_Speckguertel/Wrangle/bin/python -m pip install ipykernel -U --force-reinstall'"
     ]
    }
   ],
   "source": [
    "import pandas as pd\n",
    "import glob"
   ]
  },
  {
   "cell_type": "code",
   "execution_count": null,
   "metadata": {},
   "outputs": [],
   "source": [
    "files=glob.glob('../data/*.xlsx')\n",
    "files"
   ]
  },
  {
   "cell_type": "code",
   "execution_count": null,
   "metadata": {},
   "outputs": [],
   "source": [
    "metropolen_data_poll=pd.read_excel('../data/250715_Handelsblatt_Umland_Metropolen_FINAL.xlsx',skiprows=2)\n",
    "metropolen_data_poll"
   ]
  },
  {
   "cell_type": "code",
   "execution_count": null,
   "metadata": {},
   "outputs": [],
   "source": [
    "metropolen_data_poll=metropolen_data_poll.dropna(subset=[\"Stadt/Landkreis\"])"
   ]
  },
  {
   "cell_type": "code",
   "execution_count": null,
   "metadata": {},
   "outputs": [],
   "source": [
    "metropolen_data_poll[\"Stadt/Landkreis\"].tolist()"
   ]
  },
  {
   "cell_type": "code",
   "execution_count": null,
   "metadata": {},
   "outputs": [],
   "source": [
    "metropolen_data_poll[\"Stadt/Landkreis\"] = metropolen_data_poll[\"Stadt/Landkreis\"].str.replace(\"LK\", \"\").str.strip()\n",
    "metropolen_data_poll[\"Stadt/Landkreis\"] = metropolen_data_poll[\"Stadt/Landkreis\"].str.replace(\"-\", \"-\").str.strip()\n",
    "metropolen_data_poll"
   ]
  },
  {
   "cell_type": "code",
   "execution_count": null,
   "metadata": {},
   "outputs": [],
   "source": [
    "sparda_daten=pd.read_excel('../data/SPARDA_Wohnen_in_Deutschland_2025_Handelsblatt.xlsx')\n",
    "sparda_daten[\"Kreiskennziffer\"]= sparda_daten[\"Kreiskennziffer\"].astype(str).str.zfill(5)\n",
    "sparda_daten.columns"
   ]
  },
  {
   "cell_type": "code",
   "execution_count": null,
   "metadata": {},
   "outputs": [],
   "source": [
    "sparda_daten.columns"
   ]
  },
  {
   "cell_type": "code",
   "execution_count": null,
   "metadata": {},
   "outputs": [],
   "source": [
    "sparda_daten[\"Kreis\"] = sparda_daten[\"Kreis\"].str.replace(\"LK\", \"\").str.strip()\n",
    "sparda_daten[\"Kreis\"] = sparda_daten[\"Kreis\"].str.replace(\"-\", \"-\").str.strip()"
   ]
  },
  {
   "cell_type": "code",
   "execution_count": null,
   "metadata": {},
   "outputs": [],
   "source": [
    "metropolen_poll_sparda=pd.merge(metropolen_data_poll, sparda_daten, how='outer', left_on='Stadt/Landkreis', right_on='Kreis',indicator=True)\n",
    "metropolen_poll_sparda"
   ]
  },
  {
   "cell_type": "code",
   "execution_count": null,
   "metadata": {},
   "outputs": [],
   "source": [
    "metropolen_poll_sparda[metropolen_poll_sparda[\"Zukunftsindex_Kategorie\"].isna()]"
   ]
  },
  {
   "cell_type": "code",
   "execution_count": null,
   "metadata": {},
   "outputs": [],
   "source": [
    "metropolen_poll_sparda[metropolen_poll_sparda[\"durchschn. Kaufpreis 1. HJ 2025\"].isna()][\"Kreis\"].tolist()"
   ]
  },
  {
   "cell_type": "code",
   "execution_count": null,
   "metadata": {},
   "outputs": [],
   "source": [
    "metropolen_poll_sparda_cleaned=metropolen_poll_sparda[metropolen_poll_sparda[\"_merge\"]==\"both\"]\n",
    "metropolen_poll_sparda_cleaned"
   ]
  },
  {
   "cell_type": "code",
   "execution_count": null,
   "metadata": {},
   "outputs": [],
   "source": [
    "metropolen_poll_sparda_cleaned.columns"
   ]
  },
  {
   "cell_type": "code",
   "execution_count": null,
   "metadata": {},
   "outputs": [],
   "source": [
    "metropolen_poll_sparda_cleaned=metropolen_poll_sparda_cleaned.rename(columns={'Ø-Entfernung in km':\"Durchschnittliche Entfernung zur Autobahn\",\n",
    "                                                                              'Ø-Entfernung in km.1':\"Durchschnittliche Entfernung zum Zugverkehr\",\n",
    "                                                                              'Ø-Entfernung in km.2':\"Durchschnittliche Entfernung zum Supermarkt\",\n",
    "                                                                              \"Pender pro 1.000 Ew. \":\"Pendler pro 1.000 Ew.\",})\n",
    "metropolen_poll_sparda_cleaned"
   ]
  },
  {
   "cell_type": "code",
   "execution_count": null,
   "metadata": {},
   "outputs": [],
   "source": [
    "metropolen_poll_sparda_cleaned.columns"
   ]
  },
  {
   "cell_type": "code",
   "execution_count": null,
   "metadata": {},
   "outputs": [],
   "source": [
    "metropolen_poll_sparda_cleaned_red=metropolen_poll_sparda_cleaned[[\"Kreiskennziffer\",\"Stadt/Landkreis\",'Metropole_x','durchschn. Kaufpreis 1. HJ 2025',\n",
    "       'Angebote 1. HJ 2025','Preisentwicklung','Angebotsentwicklung','Durchschnittliche Entfernung zur Autobahn',\n",
    "       'Durchschnittliche Entfernung zum Zugverkehr',\n",
    "       'Durchschnittliche Entfernung zum Supermarkt',\"Pendler pro 1.000 Ew.\"]]\n",
    "metropolen_poll_sparda_cleaned_red"
   ]
  },
  {
   "cell_type": "code",
   "execution_count": null,
   "metadata": {},
   "outputs": [],
   "source": [
    "pendel_data_stadt=pd.read_csv(\"../data/postbank_pendel.csv\")\n",
    "pendel_data_stadt"
   ]
  },
  {
   "cell_type": "code",
   "execution_count": null,
   "metadata": {},
   "outputs": [],
   "source": [
    "pendel_data_stadt[\"Stadt\"]=pendel_data_stadt[\"Kreis\"].str.split(\",\").str[0]\n",
    "pendel_data_stadt.sort_values(by=\"Stadt\", inplace=True)\n",
    "pendel_data_stadt"
   ]
  },
  {
   "cell_type": "code",
   "execution_count": null,
   "metadata": {},
   "outputs": [],
   "source": [
    "ags_schluessel=pd.read_excel(\"../data/AuszugGV2QAktuell.xlsx\",sheet_name=\"Onlineprodukt_Gemeinden30062025\",skiprows=3)\n",
    "ags_schluessel"
   ]
  },
  {
   "cell_type": "code",
   "execution_count": null,
   "metadata": {},
   "outputs": [],
   "source": [
    "gemeinde_schluessel=ags_schluessel.dropna(subset=[\"Land\",\"RB\",\"Kreis\",\"Gem\"])\n",
    "gemeinde_schluessel"
   ]
  },
  {
   "cell_type": "code",
   "execution_count": null,
   "metadata": {},
   "outputs": [],
   "source": [
    "gemeinde_schluessel[\"Land\"]=gemeinde_schluessel[\"Land\"].str.zfill(2)\n",
    "gemeinde_schluessel[\"RB\"]=gemeinde_schluessel[\"RB\"].astype(int).astype(str)\n",
    "gemeinde_schluessel[\"Kreis\"]=gemeinde_schluessel[\"Kreis\"].astype(int).astype(str).str.zfill(2)\n",
    "gemeinde_schluessel[\"Gem\"]=gemeinde_schluessel[\"Gem\"].astype(int).astype(str).str.zfill(3)"
   ]
  },
  {
   "cell_type": "code",
   "execution_count": null,
   "metadata": {},
   "outputs": [],
   "source": [
    "gemeinde_schluessel[\"AGS\"]=gemeinde_schluessel[\"Land\"]+gemeinde_schluessel[\"RB\"]+gemeinde_schluessel[\"Kreis\"]+gemeinde_schluessel[\"Gem\"]\n",
    "gemeinde_schluessel"
   ]
  },
  {
   "cell_type": "code",
   "execution_count": null,
   "metadata": {},
   "outputs": [],
   "source": [
    "kreis_schluessel=ags_schluessel[(ags_schluessel[\"Gem\"].isna()) ]\n",
    "kreis_schluessel=kreis_schluessel.dropna(subset=[\"Land\",\"RB\",\"Kreis\"])\n",
    "kreis_schluessel"
   ]
  },
  {
   "cell_type": "code",
   "execution_count": null,
   "metadata": {},
   "outputs": [],
   "source": [
    "kreis_schluessel[\"Land\"]=kreis_schluessel[\"Land\"].str.zfill(2)\n",
    "kreis_schluessel[\"RB\"]=kreis_schluessel[\"RB\"].astype(int).astype(str)\n",
    "kreis_schluessel[\"Kreis\"]=kreis_schluessel[\"Kreis\"].astype(int).astype(str).str.zfill(2)\n"
   ]
  },
  {
   "cell_type": "code",
   "execution_count": null,
   "metadata": {},
   "outputs": [],
   "source": []
  },
  {
   "cell_type": "code",
   "execution_count": null,
   "metadata": {},
   "outputs": [],
   "source": [
    "kreis_schluessel[\"AGS\"]=kreis_schluessel[\"Land\"]+kreis_schluessel[\"RB\"]+kreis_schluessel[\"Kreis\"]\n",
    "kreis_schluessel"
   ]
  },
  {
   "cell_type": "code",
   "execution_count": null,
   "metadata": {},
   "outputs": [],
   "source": [
    "gemeinde_schluessel[\"Stadt\"]=gemeinde_schluessel[\"Unnamed: 7\"].str.split(\",\").str[0]\n",
    "gemeinde_schluessel"
   ]
  },
  {
   "cell_type": "code",
   "execution_count": null,
   "metadata": {},
   "outputs": [],
   "source": [
    "gemeinde_schluessel_red=gemeinde_schluessel[[\"AGS\",\"Stadt\"]]\n",
    "gemeinde_schluessel_red"
   ]
  },
  {
   "cell_type": "code",
   "execution_count": null,
   "metadata": {},
   "outputs": [],
   "source": [
    "merge_gemeinde_pendel=pd.merge(gemeinde_schluessel_red, pendel_data_stadt, how='outer', left_on='Stadt', right_on='Stadt',indicator=True)\n",
    "merge_gemeinde_pendel"
   ]
  },
  {
   "cell_type": "code",
   "execution_count": null,
   "metadata": {},
   "outputs": [],
   "source": [
    "merge_gemeinde_pendel=merge_gemeinde_pendel[merge_gemeinde_pendel[\"_merge\"]==\"both\"]\n",
    "merge_gemeinde_pendel.sort_values(by=\"AGS\", inplace=True)\n",
    "merge_gemeinde_pendel"
   ]
  },
  {
   "cell_type": "code",
   "execution_count": null,
   "metadata": {},
   "outputs": [],
   "source": [
    "merge_gemeinde_pendel[\"Kreisziffer\"]=merge_gemeinde_pendel[\"AGS\"].str[0:5]\n"
   ]
  },
  {
   "cell_type": "code",
   "execution_count": null,
   "metadata": {},
   "outputs": [],
   "source": [
    "to_drop_list=[\"09372\",\"01051\",\"13071\",\"07332\",\"09377\",\"03357\",\"09274\",\"08226\",\"07331\",\"07337\",\"09185\"]"
   ]
  },
  {
   "cell_type": "code",
   "execution_count": null,
   "metadata": {},
   "outputs": [],
   "source": [
    "merge_gemeinde_pendel_clean=merge_gemeinde_pendel[~merge_gemeinde_pendel[\"Kreisziffer\"].isin(to_drop_list)]\n",
    "merge_gemeinde_pendel_clean"
   ]
  },
  {
   "cell_type": "code",
   "execution_count": null,
   "metadata": {},
   "outputs": [],
   "source": [
    "merge_gemeinde_pendel_red=merge_gemeinde_pendel_clean[[\"Kreisziffer\",\"Stadt\",\"city\",\"sqm\",\"PKW\",\"ÖPNV\"]]\n",
    "merge_gemeinde_pendel_red"
   ]
  },
  {
   "cell_type": "code",
   "execution_count": null,
   "metadata": {},
   "outputs": [],
   "source": [
    "merge_gemeinde_pendel_red_by_kreis=merge_gemeinde_pendel_red.groupby([\"Kreisziffer\",\"Stadt\",\"city\",\"sqm\"]).mean().reset_index()\n",
    "merge_gemeinde_pendel_red_by_kreis"
   ]
  },
  {
   "cell_type": "code",
   "execution_count": null,
   "metadata": {},
   "outputs": [],
   "source": [
    "metropolen_poll_sparda_cleaned_red"
   ]
  },
  {
   "cell_type": "code",
   "execution_count": null,
   "metadata": {},
   "outputs": [],
   "source": [
    "metropolen_poll_sparda_pendel=pd.merge(metropolen_poll_sparda_cleaned_red,merge_gemeinde_pendel_red_by_kreis,left_on=\"Kreiskennziffer\", right_on=\"Kreisziffer\", how=\"outer\", indicator=True)\n",
    "metropolen_poll_sparda_pendel"
   ]
  },
  {
   "cell_type": "code",
   "execution_count": null,
   "metadata": {},
   "outputs": [],
   "source": [
    "metropolen_poll_sparda_pendel[metropolen_poll_sparda_pendel[\"_merge\"]==\"both\"]"
   ]
  },
  {
   "cell_type": "code",
   "execution_count": null,
   "metadata": {},
   "outputs": [],
   "source": [
    "metropolen_poll_sparda_pendel_70=metropolen_poll_sparda_pendel[metropolen_poll_sparda_pendel[\"sqm\"]==70]\n",
    "metropolen_poll_sparda_pendel_70"
   ]
  },
  {
   "cell_type": "code",
   "execution_count": null,
   "metadata": {},
   "outputs": [],
   "source": [
    "metropolen_poll_sparda_pendel_70=metropolen_poll_sparda_pendel_70.rename(columns={\"PKW\":\"PKW_70qm\",\"ÖPNV\":\"ÖPNV_70qm\"})\n",
    "metropolen_poll_sparda_pendel_70"
   ]
  },
  {
   "cell_type": "code",
   "execution_count": null,
   "metadata": {},
   "outputs": [],
   "source": [
    "metropolen_poll_sparda_pendel_70_red=metropolen_poll_sparda_pendel_70.drop(columns=[\"Kreisziffer\",\"Stadt\",\"city\",\"sqm\",\"_merge\"])\n",
    "metropolen_poll_sparda_pendel_70_red"
   ]
  },
  {
   "cell_type": "code",
   "execution_count": null,
   "metadata": {},
   "outputs": [],
   "source": [
    "metropolen_poll_sparda_pendel_70_red_mean=metropolen_poll_sparda_pendel_70_red.groupby([\"Kreiskennziffer\",\"Stadt/Landkreis\",\"Metropole_x\"]).mean().reset_index()\n",
    "metropolen_poll_sparda_pendel_70_red_mean.to_csv(\"Kreis_merged_data_vorlaeufig.csv\", index=False)"
   ]
  },
  {
   "cell_type": "code",
   "execution_count": null,
   "metadata": {},
   "outputs": [],
   "source": []
  }
 ],
 "metadata": {
  "kernelspec": {
   "display_name": "Wrangle",
   "language": "python",
   "name": "python3"
  },
  "language_info": {
   "codemirror_mode": {
    "name": "ipython",
    "version": 3
   },
   "file_extension": ".py",
   "mimetype": "text/x-python",
   "name": "python",
   "nbconvert_exporter": "python",
   "pygments_lexer": "ipython3",
   "version": "3.12.8"
  }
 },
 "nbformat": 4,
 "nbformat_minor": 2
}
